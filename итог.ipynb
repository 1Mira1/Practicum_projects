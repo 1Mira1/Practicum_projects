{
 "cells": [
  {
   "cell_type": "markdown",
   "id": "0411ca89",
   "metadata": {},
   "source": [
    "# Исследовательский анализ данных в Python и проверка гипотез. \n",
    "\n"
   ]
  },
  {
   "cell_type": "markdown",
   "id": "e976ada3",
   "metadata": {},
   "source": [
    "## Цели и задачи проекта\n",
    "\n",
    "Цели: понять, как меняются предпочтения пользователей и сценарии их поведения в зависимости от сезона (с 1 июня по 31 октября 2024); сравнить активность пользователей мобильных и стационарных устройств; установить, какие регионы и билетные операторы обеспечивают максимальный приток заказов и выручки.\n",
    "\n",
    "Задачи: подготовка данных, визуализация, анализ сезонности (летом и осенью) и поведенческих моделей, проверка гипотез (1. среднее количество заказов на одного пользователя мобильного приложения выше по сравнению с пользователями стационарных устройств и 2. среднее время между заказами пользователей мобильных приложений выше по сравнению с пользователями стационарных устройств.)."
   ]
  },
  {
   "cell_type": "markdown",
   "id": "7b08c660",
   "metadata": {},
   "source": [
    "## Описание данных\n",
    "\n",
    "\n",
    "\n",
    "Первый датасет final_tickets_orders_df.csv включает информацию обо всех заказах билетов, совершённых с двух типов устройств — мобильных и стационарных. Поля датасета соответствуют таблице purchases, с которой вы работали в предыдущих заданиях:\n",
    "\n",
    "\n",
    "Второй датасет final_tickets_events_df.csv содержит информацию о событиях, включая город и регион события, а также информацию о площадке проведения мероприятия. Датасет содержит такие поля:\n",
    "\n",
    "\n",
    "Выручка от заказов может бы представлена в разных валютах. Удобно будет привести данные к одной — к российским рублям. Датасет final_tickets_tenge_df.csv с информацией о курсе тенге к российскому рублю за 2024 год. Значения в рублях представлено для 100 тенге. Датасет содержит такие поля:\n",
    "\n",
    "\n"
   ]
  },
  {
   "cell_type": "markdown",
   "id": "49a9729e",
   "metadata": {},
   "source": [
    "##  Проект "
   ]
  },
  {
   "cell_type": "markdown",
   "id": "247efac6",
   "metadata": {},
   "source": [
    "#### 4.1. Загрузка данных и знакомство с ними\n",
    "Загрузите данные и получите первую информацию о них. Оцените объём данных, их корректность и соответствие описанию, а также предположите, какие шаги необходимо сделать на стадии предобработки данных. Основные моменты зафиксируйте в промежуточном выводе."
   ]
  },
  {
   "cell_type": "code",
   "execution_count": 1,
   "id": "b0dd21f4",
   "metadata": {},
   "outputs": [],
   "source": [
    "import pandas as pd\n",
    "import seaborn as sns\n",
    "import matplotlib.pyplot as plt\n",
    "import scipy.stats as stats\n",
    "from scipy.stats import mannwhitneyu"
   ]
  },
  {
   "cell_type": "code",
   "execution_count": 2,
   "id": "071e248f",
   "metadata": {},
   "outputs": [
    {
     "name": "stdout",
     "output_type": "stream",
     "text": [
      "<class 'pandas.core.frame.DataFrame'>\n",
      "RangeIndex: 290849 entries, 0 to 290848\n",
      "Data columns (total 14 columns):\n",
      " #   Column                 Non-Null Count   Dtype  \n",
      "---  ------                 --------------   -----  \n",
      " 0   order_id               290849 non-null  int64  \n",
      " 1   user_id                290849 non-null  object \n",
      " 2   created_dt_msk         290849 non-null  object \n",
      " 3   created_ts_msk         290849 non-null  object \n",
      " 4   event_id               290849 non-null  int64  \n",
      " 5   cinema_circuit         290849 non-null  object \n",
      " 6   age_limit              290849 non-null  int64  \n",
      " 7   currency_code          290849 non-null  object \n",
      " 8   device_type_canonical  290849 non-null  object \n",
      " 9   revenue                290849 non-null  float64\n",
      " 10  service_name           290849 non-null  object \n",
      " 11  tickets_count          290849 non-null  int64  \n",
      " 12  total                  290849 non-null  float64\n",
      " 13  days_since_prev        268909 non-null  float64\n",
      "dtypes: float64(3), int64(4), object(7)\n",
      "memory usage: 31.1+ MB\n"
     ]
    },
    {
     "data": {
      "text/html": [
       "<div>\n",
       "<style scoped>\n",
       "    .dataframe tbody tr th:only-of-type {\n",
       "        vertical-align: middle;\n",
       "    }\n",
       "\n",
       "    .dataframe tbody tr th {\n",
       "        vertical-align: top;\n",
       "    }\n",
       "\n",
       "    .dataframe thead th {\n",
       "        text-align: right;\n",
       "    }\n",
       "</style>\n",
       "<table border=\"1\" class=\"dataframe\">\n",
       "  <thead>\n",
       "    <tr style=\"text-align: right;\">\n",
       "      <th></th>\n",
       "      <th>order_id</th>\n",
       "      <th>user_id</th>\n",
       "      <th>created_dt_msk</th>\n",
       "      <th>created_ts_msk</th>\n",
       "      <th>event_id</th>\n",
       "      <th>cinema_circuit</th>\n",
       "      <th>age_limit</th>\n",
       "      <th>currency_code</th>\n",
       "      <th>device_type_canonical</th>\n",
       "      <th>revenue</th>\n",
       "      <th>service_name</th>\n",
       "      <th>tickets_count</th>\n",
       "      <th>total</th>\n",
       "      <th>days_since_prev</th>\n",
       "    </tr>\n",
       "  </thead>\n",
       "  <tbody>\n",
       "    <tr>\n",
       "      <th>0</th>\n",
       "      <td>4359165</td>\n",
       "      <td>0002849b70a3ce2</td>\n",
       "      <td>2024-08-20</td>\n",
       "      <td>2024-08-20 16:08:03</td>\n",
       "      <td>169230</td>\n",
       "      <td>нет</td>\n",
       "      <td>16</td>\n",
       "      <td>rub</td>\n",
       "      <td>mobile</td>\n",
       "      <td>1521.94</td>\n",
       "      <td>Край билетов</td>\n",
       "      <td>4</td>\n",
       "      <td>10870.99</td>\n",
       "      <td>NaN</td>\n",
       "    </tr>\n",
       "    <tr>\n",
       "      <th>1</th>\n",
       "      <td>7965605</td>\n",
       "      <td>0005ca5e93f2cf4</td>\n",
       "      <td>2024-07-23</td>\n",
       "      <td>2024-07-23 18:36:24</td>\n",
       "      <td>237325</td>\n",
       "      <td>нет</td>\n",
       "      <td>0</td>\n",
       "      <td>rub</td>\n",
       "      <td>mobile</td>\n",
       "      <td>289.45</td>\n",
       "      <td>Мой билет</td>\n",
       "      <td>2</td>\n",
       "      <td>2067.51</td>\n",
       "      <td>NaN</td>\n",
       "    </tr>\n",
       "    <tr>\n",
       "      <th>2</th>\n",
       "      <td>7292370</td>\n",
       "      <td>0005ca5e93f2cf4</td>\n",
       "      <td>2024-10-06</td>\n",
       "      <td>2024-10-06 13:56:02</td>\n",
       "      <td>578454</td>\n",
       "      <td>нет</td>\n",
       "      <td>0</td>\n",
       "      <td>rub</td>\n",
       "      <td>mobile</td>\n",
       "      <td>1258.57</td>\n",
       "      <td>За билетом!</td>\n",
       "      <td>4</td>\n",
       "      <td>13984.16</td>\n",
       "      <td>75.0</td>\n",
       "    </tr>\n",
       "    <tr>\n",
       "      <th>3</th>\n",
       "      <td>1139875</td>\n",
       "      <td>000898990054619</td>\n",
       "      <td>2024-07-13</td>\n",
       "      <td>2024-07-13 19:40:48</td>\n",
       "      <td>387271</td>\n",
       "      <td>нет</td>\n",
       "      <td>0</td>\n",
       "      <td>rub</td>\n",
       "      <td>mobile</td>\n",
       "      <td>8.49</td>\n",
       "      <td>Лови билет!</td>\n",
       "      <td>2</td>\n",
       "      <td>212.28</td>\n",
       "      <td>NaN</td>\n",
       "    </tr>\n",
       "    <tr>\n",
       "      <th>4</th>\n",
       "      <td>972400</td>\n",
       "      <td>000898990054619</td>\n",
       "      <td>2024-10-04</td>\n",
       "      <td>2024-10-04 22:33:15</td>\n",
       "      <td>509453</td>\n",
       "      <td>нет</td>\n",
       "      <td>18</td>\n",
       "      <td>rub</td>\n",
       "      <td>mobile</td>\n",
       "      <td>1390.41</td>\n",
       "      <td>Билеты без проблем</td>\n",
       "      <td>3</td>\n",
       "      <td>10695.43</td>\n",
       "      <td>83.0</td>\n",
       "    </tr>\n",
       "  </tbody>\n",
       "</table>\n",
       "</div>"
      ],
      "text/plain": [
       "   order_id          user_id created_dt_msk       created_ts_msk  event_id  \\\n",
       "0   4359165  0002849b70a3ce2     2024-08-20  2024-08-20 16:08:03    169230   \n",
       "1   7965605  0005ca5e93f2cf4     2024-07-23  2024-07-23 18:36:24    237325   \n",
       "2   7292370  0005ca5e93f2cf4     2024-10-06  2024-10-06 13:56:02    578454   \n",
       "3   1139875  000898990054619     2024-07-13  2024-07-13 19:40:48    387271   \n",
       "4    972400  000898990054619     2024-10-04  2024-10-04 22:33:15    509453   \n",
       "\n",
       "  cinema_circuit  age_limit currency_code device_type_canonical  revenue  \\\n",
       "0            нет         16           rub                mobile  1521.94   \n",
       "1            нет          0           rub                mobile   289.45   \n",
       "2            нет          0           rub                mobile  1258.57   \n",
       "3            нет          0           rub                mobile     8.49   \n",
       "4            нет         18           rub                mobile  1390.41   \n",
       "\n",
       "         service_name  tickets_count     total  days_since_prev  \n",
       "0        Край билетов              4  10870.99              NaN  \n",
       "1           Мой билет              2   2067.51              NaN  \n",
       "2         За билетом!              4  13984.16             75.0  \n",
       "3         Лови билет!              2    212.28              NaN  \n",
       "4  Билеты без проблем              3  10695.43             83.0  "
      ]
     },
     "execution_count": 2,
     "metadata": {},
     "output_type": "execute_result"
    }
   ],
   "source": [
    "final_tickets_orders = pd.read_csv('https://code.s3.yandex.net//datasets/final_tickets_orders_df.csv')\n",
    "final_tickets_orders.info()\n",
    "final_tickets_orders.head()"
   ]
  },
  {
   "cell_type": "code",
   "execution_count": 3,
   "id": "674333c7",
   "metadata": {},
   "outputs": [
    {
     "name": "stdout",
     "output_type": "stream",
     "text": [
      "<class 'pandas.core.frame.DataFrame'>\n",
      "RangeIndex: 22427 entries, 0 to 22426\n",
      "Data columns (total 11 columns):\n",
      " #   Column                  Non-Null Count  Dtype \n",
      "---  ------                  --------------  ----- \n",
      " 0   event_id                22427 non-null  int64 \n",
      " 1   event_name              22427 non-null  object\n",
      " 2   event_type_description  22427 non-null  object\n",
      " 3   event_type_main         22427 non-null  object\n",
      " 4   organizers              22427 non-null  object\n",
      " 5   region_name             22427 non-null  object\n",
      " 6   city_name               22427 non-null  object\n",
      " 7   city_id                 22427 non-null  int64 \n",
      " 8   venue_id                22427 non-null  int64 \n",
      " 9   venue_name              22427 non-null  object\n",
      " 10  venue_address           22427 non-null  object\n",
      "dtypes: int64(3), object(8)\n",
      "memory usage: 1.9+ MB\n"
     ]
    },
    {
     "data": {
      "text/html": [
       "<div>\n",
       "<style scoped>\n",
       "    .dataframe tbody tr th:only-of-type {\n",
       "        vertical-align: middle;\n",
       "    }\n",
       "\n",
       "    .dataframe tbody tr th {\n",
       "        vertical-align: top;\n",
       "    }\n",
       "\n",
       "    .dataframe thead th {\n",
       "        text-align: right;\n",
       "    }\n",
       "</style>\n",
       "<table border=\"1\" class=\"dataframe\">\n",
       "  <thead>\n",
       "    <tr style=\"text-align: right;\">\n",
       "      <th></th>\n",
       "      <th>event_id</th>\n",
       "      <th>event_name</th>\n",
       "      <th>event_type_description</th>\n",
       "      <th>event_type_main</th>\n",
       "      <th>organizers</th>\n",
       "      <th>region_name</th>\n",
       "      <th>city_name</th>\n",
       "      <th>city_id</th>\n",
       "      <th>venue_id</th>\n",
       "      <th>venue_name</th>\n",
       "      <th>venue_address</th>\n",
       "    </tr>\n",
       "  </thead>\n",
       "  <tbody>\n",
       "    <tr>\n",
       "      <th>0</th>\n",
       "      <td>4436</td>\n",
       "      <td>e4f26fba-da77-4c61-928a-6c3e434d793f</td>\n",
       "      <td>спектакль</td>\n",
       "      <td>театр</td>\n",
       "      <td>№4893</td>\n",
       "      <td>Североярская область</td>\n",
       "      <td>Озёрск</td>\n",
       "      <td>2</td>\n",
       "      <td>1600</td>\n",
       "      <td>Кладбище искусств \"Проблема\" и партнеры</td>\n",
       "      <td>наб. Загородная, д. 785</td>\n",
       "    </tr>\n",
       "    <tr>\n",
       "      <th>1</th>\n",
       "      <td>5785</td>\n",
       "      <td>5cc08a60-fdea-4186-9bb2-bffc3603fb77</td>\n",
       "      <td>спектакль</td>\n",
       "      <td>театр</td>\n",
       "      <td>№1931</td>\n",
       "      <td>Светополянский округ</td>\n",
       "      <td>Глиноград</td>\n",
       "      <td>54</td>\n",
       "      <td>2196</td>\n",
       "      <td>Лекции по искусству \"Свет\" Групп</td>\n",
       "      <td>ул. Ягодная, д. 942</td>\n",
       "    </tr>\n",
       "    <tr>\n",
       "      <th>2</th>\n",
       "      <td>8817</td>\n",
       "      <td>8e379a89-3a10-4811-ba06-ec22ebebe989</td>\n",
       "      <td>спектакль</td>\n",
       "      <td>театр</td>\n",
       "      <td>№4896</td>\n",
       "      <td>Североярская область</td>\n",
       "      <td>Озёрск</td>\n",
       "      <td>2</td>\n",
       "      <td>4043</td>\n",
       "      <td>Кинокомитет \"Золотая\" Инк</td>\n",
       "      <td>ш. Коммуны, д. 92 стр. 6</td>\n",
       "    </tr>\n",
       "    <tr>\n",
       "      <th>3</th>\n",
       "      <td>8849</td>\n",
       "      <td>682e3129-6a32-4952-9d8a-ef7f60d4c247</td>\n",
       "      <td>спектакль</td>\n",
       "      <td>театр</td>\n",
       "      <td>№4960</td>\n",
       "      <td>Каменевский регион</td>\n",
       "      <td>Глиногорск</td>\n",
       "      <td>213</td>\n",
       "      <td>1987</td>\n",
       "      <td>Выставка ремесел \"Свет\" Лтд</td>\n",
       "      <td>пер. Набережный, д. 35</td>\n",
       "    </tr>\n",
       "    <tr>\n",
       "      <th>4</th>\n",
       "      <td>8850</td>\n",
       "      <td>d6e99176-c77f-4af0-9222-07c571f6c624</td>\n",
       "      <td>спектакль</td>\n",
       "      <td>театр</td>\n",
       "      <td>№4770</td>\n",
       "      <td>Лесодальний край</td>\n",
       "      <td>Родниковец</td>\n",
       "      <td>55</td>\n",
       "      <td>4230</td>\n",
       "      <td>Фестивальный проект \"Листья\" Групп</td>\n",
       "      <td>пер. Проезжий, д. 9</td>\n",
       "    </tr>\n",
       "  </tbody>\n",
       "</table>\n",
       "</div>"
      ],
      "text/plain": [
       "   event_id                            event_name event_type_description  \\\n",
       "0      4436  e4f26fba-da77-4c61-928a-6c3e434d793f              спектакль   \n",
       "1      5785  5cc08a60-fdea-4186-9bb2-bffc3603fb77              спектакль   \n",
       "2      8817  8e379a89-3a10-4811-ba06-ec22ebebe989              спектакль   \n",
       "3      8849  682e3129-6a32-4952-9d8a-ef7f60d4c247              спектакль   \n",
       "4      8850  d6e99176-c77f-4af0-9222-07c571f6c624              спектакль   \n",
       "\n",
       "  event_type_main organizers           region_name   city_name  city_id  \\\n",
       "0           театр      №4893  Североярская область      Озёрск        2   \n",
       "1           театр      №1931  Светополянский округ   Глиноград       54   \n",
       "2           театр      №4896  Североярская область      Озёрск        2   \n",
       "3           театр      №4960    Каменевский регион  Глиногорск      213   \n",
       "4           театр      №4770      Лесодальний край  Родниковец       55   \n",
       "\n",
       "   venue_id                               venue_name             venue_address  \n",
       "0      1600  Кладбище искусств \"Проблема\" и партнеры   наб. Загородная, д. 785  \n",
       "1      2196         Лекции по искусству \"Свет\" Групп       ул. Ягодная, д. 942  \n",
       "2      4043                Кинокомитет \"Золотая\" Инк  ш. Коммуны, д. 92 стр. 6  \n",
       "3      1987              Выставка ремесел \"Свет\" Лтд    пер. Набережный, д. 35  \n",
       "4      4230       Фестивальный проект \"Листья\" Групп       пер. Проезжий, д. 9  "
      ]
     },
     "execution_count": 3,
     "metadata": {},
     "output_type": "execute_result"
    }
   ],
   "source": [
    "final_tickets_events = pd.read_csv('https://code.s3.yandex.net//datasets/final_tickets_events_df.csv')\n",
    "final_tickets_events.info()\n",
    "final_tickets_events.head()"
   ]
  },
  {
   "cell_type": "code",
   "execution_count": 4,
   "id": "eab120d6",
   "metadata": {},
   "outputs": [
    {
     "name": "stdout",
     "output_type": "stream",
     "text": [
      "<class 'pandas.core.frame.DataFrame'>\n",
      "RangeIndex: 357 entries, 0 to 356\n",
      "Data columns (total 4 columns):\n",
      " #   Column   Non-Null Count  Dtype  \n",
      "---  ------   --------------  -----  \n",
      " 0   data     357 non-null    object \n",
      " 1   nominal  357 non-null    int64  \n",
      " 2   curs     357 non-null    float64\n",
      " 3   cdx      357 non-null    object \n",
      "dtypes: float64(1), int64(1), object(2)\n",
      "memory usage: 11.3+ KB\n"
     ]
    },
    {
     "data": {
      "text/html": [
       "<div>\n",
       "<style scoped>\n",
       "    .dataframe tbody tr th:only-of-type {\n",
       "        vertical-align: middle;\n",
       "    }\n",
       "\n",
       "    .dataframe tbody tr th {\n",
       "        vertical-align: top;\n",
       "    }\n",
       "\n",
       "    .dataframe thead th {\n",
       "        text-align: right;\n",
       "    }\n",
       "</style>\n",
       "<table border=\"1\" class=\"dataframe\">\n",
       "  <thead>\n",
       "    <tr style=\"text-align: right;\">\n",
       "      <th></th>\n",
       "      <th>data</th>\n",
       "      <th>nominal</th>\n",
       "      <th>curs</th>\n",
       "      <th>cdx</th>\n",
       "    </tr>\n",
       "  </thead>\n",
       "  <tbody>\n",
       "    <tr>\n",
       "      <th>0</th>\n",
       "      <td>2024-01-10</td>\n",
       "      <td>100</td>\n",
       "      <td>19.9391</td>\n",
       "      <td>kzt</td>\n",
       "    </tr>\n",
       "    <tr>\n",
       "      <th>1</th>\n",
       "      <td>2024-01-11</td>\n",
       "      <td>100</td>\n",
       "      <td>19.7255</td>\n",
       "      <td>kzt</td>\n",
       "    </tr>\n",
       "    <tr>\n",
       "      <th>2</th>\n",
       "      <td>2024-01-12</td>\n",
       "      <td>100</td>\n",
       "      <td>19.5839</td>\n",
       "      <td>kzt</td>\n",
       "    </tr>\n",
       "    <tr>\n",
       "      <th>3</th>\n",
       "      <td>2024-01-13</td>\n",
       "      <td>100</td>\n",
       "      <td>19.4501</td>\n",
       "      <td>kzt</td>\n",
       "    </tr>\n",
       "    <tr>\n",
       "      <th>4</th>\n",
       "      <td>2024-01-14</td>\n",
       "      <td>100</td>\n",
       "      <td>19.4501</td>\n",
       "      <td>kzt</td>\n",
       "    </tr>\n",
       "  </tbody>\n",
       "</table>\n",
       "</div>"
      ],
      "text/plain": [
       "         data  nominal     curs  cdx\n",
       "0  2024-01-10      100  19.9391  kzt\n",
       "1  2024-01-11      100  19.7255  kzt\n",
       "2  2024-01-12      100  19.5839  kzt\n",
       "3  2024-01-13      100  19.4501  kzt\n",
       "4  2024-01-14      100  19.4501  kzt"
      ]
     },
     "execution_count": 4,
     "metadata": {},
     "output_type": "execute_result"
    }
   ],
   "source": [
    "final_tickets_tenge = pd.read_csv('https://code.s3.yandex.net//datasets/final_tickets_tenge_df.csv')\n",
    "final_tickets_tenge.info()\n",
    "final_tickets_tenge.head()"
   ]
  },
  {
   "cell_type": "markdown",
   "id": "48c5df21",
   "metadata": {},
   "source": [
    "Датасет о заказах билетов содержит содержит 290 849 строк и 14 столбцов, в days_since_prev есть пропуски. Датасет с информацией о событиях состоит из 22 427 строк и 11 столбцов. Датасет с курсами валют содержит 357 строк и 4 столбца. Колонки created_dt_msk и created_ts_msk нужно преобразования в формат даты-времени, сейчас они представлены в виде строк. Суммы в тенге необходимо перевести в рубли. Пропуски в days_since_prev можно заменить нулевыми значениями. Далее данные можно объединить в один датасет по event_id, так же неоходимо проверить дубликаты по event_id и order_id."
   ]
  },
  {
   "cell_type": "markdown",
   "id": "bc7accf3",
   "metadata": {},
   "source": [
    "#### 4.2. Предобработка данных и подготовка их к исследованию\n",
    "Проведите предобработку данных:\n",
    "- **Проверьте данные на пропуски.** Проверьте, что выгрузка данных из SQL была успешной. Кроме столбца days_since_prev, данные не должны содержать пропусков.\n",
    "- **Изучите значения в ключевых столбцах** и при обнаружении ошибок обработайте их.\n",
    "   - *Для категориальных значений* изучите, какие категории присутствуют в данных. Проверьте, встречаются ли значения, которые могут обозначать пропуски в данных или отсутствие информации. Проведите нормализацию данных, если это необходимо.\n",
    "   - *Для количественных значений* посмотрите на распределение и наличие выбросов. Для этого используйте статистические показатели, гистограммы распределения значений или диаграммы размаха. Для анализа данных важными показателями являются выручка с заказа revenue и количество билетов в заказе tickets_count, поэтому в первую очередь проверьте данные в этих столбцах. Если найдутся выбросы в выручке с заказа revenue, то отберите значения по 99-му процентилю. Не забудьте, что данные изначально были представлены в разных валютах, поэтому разделите анализ на рубли и тенге.\n",
    "- **Проверьте явные и неявные дубликаты.** Сделайте акцент на неявных дубликатах по бронированию билета без учёта идентификаторов заказа и, если такие будут, примите обоснованное решение, как их стоит обработать.\n",
    "- **Проведите преобразования типов данных.** Обратите внимание на типы данных с датой и временем, а также проверьте возможность снижения размерности количественных данных.\n",
    "- **Создайте несколько новых столбцов:**\n",
    "    - revenue_rub — приведите выручку с заказа к единой валюте — российскому рублю. Для этого используйте датасет с информацией о курсе казахстанского тенге по отношению к российскому рублю final_tickets_tenge_df.csv за 2024 год. Значения в рублях представлены для 100 тенге.\n",
    "    - one_ticket_revenue_rub — рассчитайте выручку с продажи одного билета на мероприятие;\n",
    "    - month — выделите месяц оформления заказа в отдельный столбец;\n",
    "    - season — создайте столбец с информацией о сезонности, включая такие категории, как: 'лето', 'осень', 'зима', 'весна'.\n",
    "    \n",
    "Рекомендация: вначале можно объединить данные в один датафрейм, а затем провести общую предобработку.\n",
    "После предобработки проверьте, сколько данных вы отобрали, если выполняли фильтрацию, а также дайте промежуточный вывод с основными действиями и описанием новых столбцов.\n"
   ]
  },
  {
   "cell_type": "code",
   "execution_count": 5,
   "id": "f7d1f72c",
   "metadata": {},
   "outputs": [],
   "source": [
    "merged_data = pd.merge(final_tickets_orders, final_tickets_events, on='event_id', how='inner')"
   ]
  },
  {
   "cell_type": "code",
   "execution_count": 6,
   "id": "0472931d",
   "metadata": {
    "scrolled": true
   },
   "outputs": [
    {
     "data": {
      "text/plain": [
       "order_id                      0\n",
       "user_id                       0\n",
       "created_dt_msk                0\n",
       "created_ts_msk                0\n",
       "event_id                      0\n",
       "cinema_circuit                0\n",
       "age_limit                     0\n",
       "currency_code                 0\n",
       "device_type_canonical         0\n",
       "revenue                       0\n",
       "service_name                  0\n",
       "tickets_count                 0\n",
       "total                         0\n",
       "days_since_prev           21913\n",
       "event_name                    0\n",
       "event_type_description        0\n",
       "event_type_main               0\n",
       "organizers                    0\n",
       "region_name                   0\n",
       "city_name                     0\n",
       "city_id                       0\n",
       "venue_id                      0\n",
       "venue_name                    0\n",
       "venue_address                 0\n",
       "dtype: int64"
      ]
     },
     "metadata": {},
     "output_type": "display_data"
    }
   ],
   "source": [
    "merged_data_values = merged_data.isnull().sum()\n",
    "display(merged_data_values)"
   ]
  },
  {
   "cell_type": "code",
   "execution_count": 7,
   "id": "67500840",
   "metadata": {
    "scrolled": true
   },
   "outputs": [
    {
     "data": {
      "text/plain": [
       "\"Уникальные значения в 'currency_code':['rub' 'kzt']\""
      ]
     },
     "metadata": {},
     "output_type": "display_data"
    },
    {
     "data": {
      "text/plain": [
       "\"Уникальные значения в 'device_type_canonical':['mobile' 'desktop']\""
      ]
     },
     "metadata": {},
     "output_type": "display_data"
    },
    {
     "data": {
      "text/plain": [
       "\"Уникальные значения в 'cinema_circuit':['нет' 'Другое' 'КиноСити' 'Киномакс' 'Москино' 'ЦентрФильм']\""
      ]
     },
     "metadata": {},
     "output_type": "display_data"
    },
    {
     "data": {
      "text/plain": [
       "\"Уникальные значения в 'age_limit':[16  0 18 12  6]\""
      ]
     },
     "metadata": {},
     "output_type": "display_data"
    },
    {
     "data": {
      "text/plain": [
       "\"Уникальные значения в 'service_name':['Край билетов' 'Мой билет' 'За билетом!' 'Лови билет!'\\n 'Билеты без проблем' 'Билеты в руки' 'Облачко' 'Дом культуры'\\n 'Весь в билетах' 'Лучшие билеты' 'Прачечная' 'Выступления.ру' 'Мир касс'\\n 'Тебе билет!' 'Быстробилет' 'Яблоко' 'Show_ticket'\\n 'Городской дом культуры' 'Билет по телефону' 'Crazy ticket!' 'Росбилет'\\n 'Шоу начинается!' 'Цвет и билет' 'Быстрый кассир' 'Восьмёрка' 'Телебилет'\\n 'Реестр' 'КарандашРУ' 'Радио ticket' 'Дырокол' 'Вперёд!' 'Кино билет'\\n 'Зе Бест!' 'Тех билет' 'Лимоны' 'Билеты в интернете']\""
      ]
     },
     "metadata": {},
     "output_type": "display_data"
    },
    {
     "data": {
      "text/plain": [
       "\"Уникальные значения в 'event_type_main':['театр' 'выставки' 'другое' 'стендап' 'концерты' 'спорт' 'ёлки']\""
      ]
     },
     "metadata": {},
     "output_type": "display_data"
    },
    {
     "data": {
      "text/plain": [
       "\"Уникальные значения в 'region_name':['Каменевский регион' 'Североярская область' 'Озернинский край'\\n 'Лугоградская область' 'Поленовский край' 'Широковская область'\\n 'Медовская область' 'Златопольский округ' 'Малиновоярский округ'\\n 'Яблоневская область' 'Ветренский регион' 'Боровлянский край'\\n 'Крутоводская область' 'Ягодиновская область' 'Серебряноярский округ'\\n 'Лесодальний край' 'Верхоречная область' 'Горицветская область'\\n 'Речиновская область' 'Травиницкий округ' 'Сосновская область'\\n 'Серебринская область' 'Травяная область' 'Каменноярский край'\\n 'Солнечноземская область' 'Светополянский округ' 'Заречная область'\\n 'Ручейковский край' 'Глиногорская область' 'Тепляковская область'\\n 'Каменноозёрный край' 'Солнечнореченская область' 'Зоринский регион'\\n 'Берёзовская область' 'Лесостепной край' 'Малиновая область'\\n 'Синегорский регион' 'Луговая область' 'Шанырский регион'\\n 'Каменополянский округ' 'Речицкая область' 'Горностепной регион'\\n 'Речицкий регион' 'Золотоключевской край' 'Лесоярская область'\\n 'Зеленоградский округ' 'Миропольская область' 'Дальнеземская область'\\n 'Озернопольская область' 'Берестовский округ' 'Ключеводский округ'\\n 'Нежинская область' 'Дальнезорский край' 'Вишнёвский край'\\n 'Каменичская область' 'Голубевский округ' 'Тихогорская область'\\n 'Крутоводский регион' 'Чистогорская область' 'Североозёрский округ'\\n 'Тихолесский край' 'Кристальная область' 'Горноземский регион'\\n 'Радужнопольский край' 'Белоярская область' 'Островная область'\\n 'Тихореченская область' 'Кристаловская область' 'Яснопольский округ'\\n 'Островогорский округ' 'Радужногорская область' 'Дубравная область'\\n 'Залесский край' 'Североключевской округ' 'Верховинская область'\\n 'Светолесский край' 'Сосноводолинская область' 'Верхозёрский край'\\n 'Лесноярский край' 'Теплоозёрский округ' 'Лесополянская область']\""
      ]
     },
     "metadata": {},
     "output_type": "display_data"
    },
    {
     "data": {
      "text/plain": [
       "\"Уникальные значения в 'city_name':['Глиногорск' 'Озёрск' 'Родниковецк' 'Кристалевск' 'Дальнозолотск'\\n 'Радужнополье' 'Радужсвет' 'Кумсай' 'Верховино' 'Светополье' 'Кокжар'\\n 'Каменский' 'Лесоярич' 'Никольянов' 'Речинцево' 'Лесозолотск'\\n 'Дальнозерск' 'Серебрянка' 'Островецк' 'Родниковец' 'Дальнесветск'\\n 'Луговаярово' 'Ягодиновка' 'Дальнополин' 'Солчелуг' 'Озёрчане'\\n 'Серебровино' 'Лесоярово' 'Глинополье' 'Глиноград' 'Дальнесветин'\\n 'Северополье' 'Теплоозеро' 'Горнодолинск' 'Ордакент' 'Озёрово'\\n 'Луговинск' 'Лугоград' 'Златопольск' 'Крутовинск' 'Сарыжар' 'Сосновечин'\\n 'Тихоярск' 'Яблонецк' 'Жаркентай' 'Широковка' 'Синеводов' 'Синеводск'\\n 'Тихосветск' 'Радужанов' 'Глиногорь' 'Каменосветск' 'Родниковск'\\n 'Травогород' 'Глинянск' 'Радужинск' 'Поляногорье' 'Дальнолесье'\\n 'Ручейник' 'Ключеград' 'Ключеводск' 'Поленовино' 'Речичанск'\\n 'Ключевополье' 'Шаныртау' 'Дальнесоснов' 'Ордасай' 'Теплоозёрск'\\n 'Чистогорье' 'Ручейный' 'Островярово' 'Ягодинск' 'Поленоозёрово'\\n 'Акбасты' 'Медовино' 'Каменёвка' 'Рощино' 'Солнечнёвка' 'Верхозолотск'\\n 'Боровлянск' 'Лугиново' 'Сосноград' 'Радужнояр' 'Кенесар' 'Островенск'\\n 'Горнополец' 'Яблоновец' 'Вишнёво' 'Ясногородин' 'Нежинск' 'Малиноворск'\\n 'Леснойск' 'Озёриново' 'Островополь' 'Тихоречка' 'Поленояр' 'Ручьевино'\\n 'Травяниново' 'Кристаловец' 'Буркиттау' 'Ручейковск' 'Песковино'\\n 'Горнополье' 'Зоревец' 'Акбастау' 'Заречиновка' 'Сосновогорец'\\n 'Лесочистка' 'Лесоводск' 'Каменевовск' 'Сарытау' 'Малиновец' 'Речевинец'\\n 'Кристалинск' 'Верхоозёров' 'Травяночистск' 'Байкуль' 'Светоярчик'\\n 'Зориново' 'Лесореченск' 'Водниково' 'Берестовец' 'Мироярово'\\n 'Медвежанск' 'Тихолесье' 'Каменичи' 'Тихогорово' 'Лесиново'\\n 'Синегориново' 'Зелёнаярово' 'Лесозерск' 'Солнечеполье' 'Солнечеводск'\\n 'Лесогорич' 'Ключевогорск' 'Нивинск' 'Травогорск' 'Лесоярка' 'Шынгысай'\\n 'Луговское' 'Горноставинск' 'Зоречанск' 'Ручейновинск' 'Лесодолинск'\\n 'Поленовец' 'Крутово' 'Зеленополье' 'Тепляковск' 'Желкаин' 'Березиноск'\\n 'Горнополянск' 'Песчанская' 'Светополь' 'Поленоград' 'Вишнёвогорск'\\n 'Северогорск' 'Речное' 'Каменевск' 'Травянский' 'Глинозорь' 'Луговинец'\\n 'Серебровка' 'Горяново' 'Медовецк' 'Каменозолото' 'Желтоксан' 'Ясногорец'\\n 'Горицветск' 'Ясносветск' 'Сосновинск' 'Белоярск' 'Солнечейск' 'Каменояр'\\n 'Зеленолесье' 'Нуртас' 'Светогория' 'Беловодск' 'Малиновинск'\\n 'Серебринск' 'Ключевинск' 'Тихозорин' 'Голубино' 'Долиновка' 'Шалкартау'\\n 'Миросветск' 'Травяниково' 'Ясноград' 'Светочистенск' 'Кумсары'\\n 'Зеленоградовск' 'Поленосветск' 'Каменодолин' 'Вишнёводск'\\n 'Северобережье' 'Светозёринск' 'Каражар' 'Горнополёк' 'Ключезолотск'\\n 'Горнолуг' 'Песчанец' 'Бережанка' 'Соловьёвка' 'Крутоводск' 'Бозарык'\\n 'Родничанск' 'Берёзодальн' 'Озёречин' 'Поленосвет' 'Зоревичск' 'Коксуйск'\\n 'Златоречинск' 'Жетисайск' 'Байтерековск' 'Акжолтау' 'Сереброяр'\\n 'Яблоневое' 'Лесинск' 'Речинск' 'Заречнинск' 'Яснополянск' 'Речиноград'\\n 'Радужнаярова' 'Светозорск' 'Горнополяровск' 'Речепольск' 'Тиходеревск'\\n 'Ягодиноград' 'Желтау' 'Поленовичи' 'Тулебайск' 'Златоозёрово'\\n 'Кристальевка' 'Сарыбулак' 'Сосновогорск' 'Теплоград' 'Яблоневск'\\n 'Реченск' 'Бурьяново' 'Островозёров' 'Солнечёвино' 'Берёзоречье'\\n 'Ветеринск' 'Тихолесьевск' 'Зореполин' 'Тихоозёрск' 'Родинсветск'\\n 'Медвежник' 'Ясновский' 'Заречнаярово' 'Светоярич' 'Ручейницк'\\n 'Лесогорский' 'Зелёново' 'Крутоводинск' 'Яснолесье' 'Солнечелесье'\\n 'Луновка' 'Мироград' 'Светлоярск' 'Североград' 'Медвежиновск' 'Сосновецк'\\n 'Зеленополин' 'Каражол' 'Заречка' 'Глинореч' 'Каменевский' 'Берёзогорск'\\n 'Светозолотск' 'Гореловск' 'Малиновочист' 'Островской' 'Каменогорье'\\n 'Чистояр' 'Ташбулак' 'Бережанск' 'Кристалин' 'Зареченец' 'Талдысай'\\n 'Ягодино' 'Синеполинск' 'Берестяград' 'Алтынсай' 'Заречийск'\\n 'Берёзополье' 'Зеленополец' 'Шынартас' 'Радужновка' 'Поленолесье'\\n 'Златоречье' 'Островсков' 'Тогусжол' 'Светоречин' 'Айкольск'\\n 'Радужовинск' 'Айсуак' 'Заречник' 'Глинолес' 'Зелёнояр' 'Синегорск'\\n 'Каменогорский' 'Полянск' 'Крутовичи' 'Глинозолото' 'Ягодинска'\\n 'Верховка' 'Тепляровск' 'Реченогор' 'Озёроярск' 'Тастай' 'Светоярово'\\n 'Верхозорье' 'Поляноречинск' 'Малиновецк' 'Острововск' 'Светочистка'\\n 'Долиновск' 'Мирополь' 'Озёряновск' 'Златополье' 'Кристаловка'\\n 'Берёзореч' 'Зеленогорье' 'Солнечеград' 'Голубевск' 'Глинополянск'\\n 'Радугорь' 'Кристолесье' 'Березиногорск' 'Миролесье' 'Заречинск'\\n 'Ягодиноск' 'Байсары' 'Берёзиново' 'Солнечегорск' 'Глинополин'\\n 'Озёроград' 'Ягодинец' 'Алтынкала' 'Горнолесье' 'Карасуй' 'Лесополин'\\n 'Дальнеград' 'Горноград' 'Березовцево' 'Берёзовка' 'Дальнозелен'\\n 'Травино' 'Карасуйск' 'Кызылжол' 'Поляновск' 'Лесогорск']\""
      ]
     },
     "metadata": {},
     "output_type": "display_data"
    }
   ],
   "source": [
    "\n",
    "\n",
    "cat_columns = ['currency_code', 'device_type_canonical', 'cinema_circuit', 'age_limit', 'service_name',\n",
    "               'event_type_main', 'region_name', 'city_name']\n",
    "\n",
    "for col in cat_columns:\n",
    "    display(f\"Уникальные значения в '{col}':{merged_data[col].unique()}\")"
   ]
  },
  {
   "cell_type": "markdown",
   "id": "252eb7a5",
   "metadata": {},
   "source": [
    "Объединили данные в один датафрейм, проверили пропуски.  Выявлено 21913 пропущенных значений в колонке days_since_prev, замена этих пропусков не требуется, так как они отражают отсутствие покупок и не помешают в дальнейшей работе. Посмотрели значения в категориальных данных (валюта оплаты, тип устройства, сеть кинотеатров, возрастное ограничение, название билетного оператора, основной тип мероприятий, название региона, название города), ошибок нет."
   ]
  },
  {
   "cell_type": "code",
   "execution_count": 8,
   "id": "c26d8256",
   "metadata": {},
   "outputs": [
    {
     "data": {
      "text/plain": [
       "count    290611.000000\n",
       "mean        625.584360\n",
       "std        1227.693064\n",
       "min         -90.760000\n",
       "25%         116.850000\n",
       "50%         356.010000\n",
       "75%         810.130000\n",
       "max       81174.540000\n",
       "Name: revenue, dtype: float64"
      ]
     },
     "execution_count": 8,
     "metadata": {},
     "output_type": "execute_result"
    }
   ],
   "source": [
    "merged_data['revenue'].describe()"
   ]
  },
  {
   "cell_type": "code",
   "execution_count": 9,
   "id": "4b1e7c6c",
   "metadata": {},
   "outputs": [
    {
     "data": {
      "text/plain": [
       "count    290611.000000\n",
       "mean          2.754311\n",
       "std           1.170620\n",
       "min           1.000000\n",
       "25%           2.000000\n",
       "50%           3.000000\n",
       "75%           4.000000\n",
       "max          57.000000\n",
       "Name: tickets_count, dtype: float64"
      ]
     },
     "execution_count": 9,
     "metadata": {},
     "output_type": "execute_result"
    }
   ],
   "source": [
    "merged_data['tickets_count'].describe()"
   ]
  },
  {
   "cell_type": "code",
   "execution_count": 10,
   "id": "7ddf8de9",
   "metadata": {},
   "outputs": [
    {
     "data": {
      "image/png": "[encoded data removed]",
      "text/plain": [
       "<Figure size 432x288 with 1 Axes>"
      ]
     },
     "metadata": {
      "needs_background": "light"
     },
     "output_type": "display_data"
    }
   ],
   "source": [
    "sns.boxplot(x=\"revenue\", y=\"currency_code\", data=merged_data).set(title='Распределение выручки по валютам')\n",
    "plt.show()"
   ]
  },
  {
   "cell_type": "code",
   "execution_count": 11,
   "id": "cff23b84",
   "metadata": {},
   "outputs": [
    {
     "data": {
      "image/png": "[encoded data removed]",
      "text/plain": [
       "<Figure size 432x288 with 1 Axes>"
      ]
     },
     "metadata": {
      "needs_background": "light"
     },
     "output_type": "display_data"
    }
   ],
   "source": [
    "merged_data['tickets_count'].hist(bins=50)\n",
    "plt.xlabel('Количество билетов')\n",
    "plt.ylabel('Частота')\n",
    "plt.title('Гистограмма количества билетов')\n",
    "plt.show()"
   ]
  },
  {
   "cell_type": "markdown",
   "id": "a88a3073",
   "metadata": {},
   "source": [
    "С помощью метода describe() проверили статистические показатели. В 'revenue' среднее значение составляет примерно 625.58 рублей, стандартное отклонение достигает 1227.69 рублей, что свидетельствует о высокой вариативности данных.\n",
    "Максимальное значение 81174.54 значительно превышает медиану и среднее, намекая на возможное присутствие выбросов.\n",
    "В 'tickets_count' средний показатель количества билетов равен примерно 2.75 шт, умеренное число.\n",
    "Стандартное отклонение 1.17 тоже умеренное, максимум достигается 57 билетов, большое количество несильно повлияет на общую динамику. Наибольшее подозрение вызывает 'revenue', неоходимо отсечь экстремальные значения, основываясь на критерии верхнего квантильного порога (на уровне 99%). Также были построенв визуализации для проверки распределения и выявления выбросов. Наблюдается значительное количество выбросов, достигающих примерно до 30 тысяч руб. Есть ряд чисел, где выручка доходит до 80 тысяч рублей. Гистограмма показывает распределение количества билетов. Большинство заказов состоят из небольшого количества билетов (1–2 шт) и небольшая группа клиентов приобретает сразу большое количество билетов. "
   ]
  },
  {
   "cell_type": "code",
   "execution_count": 12,
   "id": "943e9214",
   "metadata": {},
   "outputs": [],
   "source": [
    "ruble_data = merged_data[merged_data['currency_code'] == 'rub']\n",
    "tenge_data = merged_data[merged_data['currency_code'] == 'kzt']\n",
    "\n",
    "threshold_ruble = ruble_data['revenue'].quantile(0.99)\n",
    "filtered_ruble_data = ruble_data[ruble_data['revenue'] <= threshold_ruble]\n",
    "\n",
    "threshold_tenge = tenge_data['revenue'].quantile(0.99)\n",
    "filtered_tenge_data = tenge_data[tenge_data['revenue'] <= threshold_tenge]\n",
    "\n",
    "cleaned_merged_data = pd.concat([filtered_ruble_data, filtered_tenge_data])"
   ]
  },
  {
   "cell_type": "code",
   "execution_count": 13,
   "id": "7cccfc58",
   "metadata": {},
   "outputs": [
    {
     "data": {
      "text/plain": [
       "'Явные дубликаты: 0 строк'"
      ]
     },
     "metadata": {},
     "output_type": "display_data"
    }
   ],
   "source": [
    "duplicate_records = cleaned_merged_data.duplicated()\n",
    "display(f\"Явные дубликаты: {duplicate_records.sum()} строк\")"
   ]
  },
  {
   "cell_type": "code",
   "execution_count": 14,
   "id": "6191c049",
   "metadata": {},
   "outputs": [
    {
     "data": {
      "text/plain": [
       "'Обнаружены неявные дубликаты:'"
      ]
     },
     "metadata": {},
     "output_type": "display_data"
    },
    {
     "data": {
      "text/plain": [
       "user_id          event_id  created_dt_msk\n",
       "000cf0659a9f40f  516728    2024-06-20        8\n",
       "                           2024-06-21        5\n",
       "00147c9209d45d3  529218    2024-06-25        2\n",
       "0020c5654c92ec1  514156    2024-07-02        2\n",
       "002b75ca606ba46  573041    2024-10-02        2\n",
       "                                            ..\n",
       "fff13b79bd47d7c  517065    2024-08-30        5\n",
       "fffcd3dde79eb2c  33189     2024-10-27        3\n",
       "                 384441    2024-09-12        2\n",
       "                 516365    2024-08-21        4\n",
       "                 554265    2024-08-04        6\n",
       "Length: 45035, dtype: int64"
      ]
     },
     "metadata": {},
     "output_type": "display_data"
    }
   ],
   "source": [
    "group_counts = cleaned_merged_data.groupby(['user_id', 'event_id', 'created_dt_msk']).size()\n",
    "non_unique_combinations = group_counts[group_counts > 1]\n",
    "\n",
    "if len(non_unique_combinations) > 0:\n",
    "    display(\"Обнаружены неявные дубликаты:\")\n",
    "    display(non_unique_combinations)\n",
    "else:\n",
    "    display(\"Неявных дубликатов не найдено\")"
   ]
  },
  {
   "cell_type": "code",
   "execution_count": 15,
   "id": "378c15d4",
   "metadata": {},
   "outputs": [],
   "source": [
    "up_merged_data = cleaned_merged_data.drop_duplicates(subset=['user_id', 'event_id', 'created_dt_msk'], keep='first')"
   ]
  },
  {
   "cell_type": "code",
   "execution_count": 16,
   "id": "5acf2e91",
   "metadata": {},
   "outputs": [],
   "source": [
    "up_merged_data = up_merged_data.copy()\n",
    "\n",
    "up_merged_data.loc[:, 'created_dt_msk'] = pd.to_datetime(up_merged_data['created_dt_msk'])\n",
    "up_merged_data.loc[:, 'created_ts_msk'] = pd.to_datetime(up_merged_data['created_ts_msk'])"
   ]
  },
  {
   "cell_type": "code",
   "execution_count": 17,
   "id": "f4ae51ce",
   "metadata": {},
   "outputs": [],
   "source": [
    "numeric_colus = up_merged_data.select_dtypes(include=['float64', 'int64']).columns\n",
    "\n",
    "for column in numeric_colus:\n",
    "    if 'float' in str(up_merged_data[column].dtype):\n",
    "        up_merged_data[column] = pd.to_numeric(up_merged_data[column], downcast='float')\n",
    "    elif 'int' in str(up_merged_data[column].dtype):\n",
    "        up_merged_data[column] = pd.to_numeric(up_merged_data[column], downcast='integer')"
   ]
  },
  {
   "cell_type": "markdown",
   "id": "bb6be97d",
   "metadata": {},
   "source": [
    "Отобрали значения по 99-му процентилю. Явных дубликатов нет, обнаружены неявные дубликаты и удалены. Преобразовали даты в правильный формат и оптимизировали память. "
   ]
  },
  {
   "cell_type": "code",
   "execution_count": 18,
   "id": "27fedeaa",
   "metadata": {},
   "outputs": [],
   "source": [
    "known_dates = final_tickets_tenge['data'].tolist()\n",
    "\n",
    "valid_merged_data = up_merged_data[up_merged_data['created_dt_msk'].dt.strftime('%Y-%m-%d').isin(known_dates)].copy()\n",
    "\n",
    "def calculate_revenue_in_rubles(row):\n",
    "    if row['currency_code'] == 'rub':\n",
    "        return row['revenue']\n",
    "    elif row['currency_code'] == 'kzt':\n",
    "        kurs_date = row['created_dt_msk'].strftime('%Y-%m-%d')\n",
    "        daily_rate = final_tickets_tenge[final_tickets_tenge['data'] == kurs_date]['curs'].values[0]\n",
    "        return row['revenue'] / 100 * daily_rate\n",
    "    else:\n",
    "        raise ValueError(\"Недопустимая валюта\")\n",
    "\n",
    "valid_merged_data['revenue_rub'] = valid_merged_data.apply(calculate_revenue_in_rubles, axis=1)"
   ]
  },
  {
   "cell_type": "code",
   "execution_count": 19,
   "id": "0aa03306",
   "metadata": {},
   "outputs": [],
   "source": [
    "valid_merged_data['one_ticket_revenue_rub'] = valid_merged_data['revenue_rub'] / valid_merged_data['tickets_count']"
   ]
  },
  {
   "cell_type": "code",
   "execution_count": 20,
   "id": "e9e305ab",
   "metadata": {},
   "outputs": [],
   "source": [
    "valid_merged_data['month'] = valid_merged_data['created_dt_msk'].dt.month"
   ]
  },
  {
   "cell_type": "code",
   "execution_count": 21,
   "id": "38da538c",
   "metadata": {},
   "outputs": [],
   "source": [
    "month_to_season_map = {\n",
    "    1: 'Зима', 2: 'Зима', 3: 'Весна', 4: 'Весна', 5: 'Весна',\n",
    "    6: 'Лето', 7: 'Лето', 8: 'Лето', 9: 'Осень', 10: 'Осень', 11: 'Осень', 12: 'Зима'}\n",
    "valid_merged_data['season'] = valid_merged_data['month'].map(month_to_season_map)"
   ]
  },
  {
   "cell_type": "code",
   "execution_count": 22,
   "id": "8acb4cd7",
   "metadata": {},
   "outputs": [
    {
     "name": "stdout",
     "output_type": "stream",
     "text": [
      "<class 'pandas.core.frame.DataFrame'>\n",
      "Int64Index: 189830 entries, 0 to 289261\n",
      "Data columns (total 28 columns):\n",
      " #   Column                  Non-Null Count   Dtype         \n",
      "---  ------                  --------------   -----         \n",
      " 0   order_id                189830 non-null  int32         \n",
      " 1   user_id                 189830 non-null  object        \n",
      " 2   created_dt_msk          189830 non-null  datetime64[ns]\n",
      " 3   created_ts_msk          189830 non-null  datetime64[ns]\n",
      " 4   event_id                189830 non-null  int32         \n",
      " 5   cinema_circuit          189830 non-null  object        \n",
      " 6   age_limit               189830 non-null  int8          \n",
      " 7   currency_code           189830 non-null  object        \n",
      " 8   device_type_canonical   189830 non-null  object        \n",
      " 9   revenue                 189830 non-null  float32       \n",
      " 10  service_name            189830 non-null  object        \n",
      " 11  tickets_count           189830 non-null  int8          \n",
      " 12  total                   189830 non-null  float32       \n",
      " 13  days_since_prev         168118 non-null  float32       \n",
      " 14  event_name              189830 non-null  object        \n",
      " 15  event_type_description  189830 non-null  object        \n",
      " 16  event_type_main         189830 non-null  object        \n",
      " 17  organizers              189830 non-null  object        \n",
      " 18  region_name             189830 non-null  object        \n",
      " 19  city_name               189830 non-null  object        \n",
      " 20  city_id                 189830 non-null  int32         \n",
      " 21  venue_id                189830 non-null  int16         \n",
      " 22  venue_name              189830 non-null  object        \n",
      " 23  venue_address           189830 non-null  object        \n",
      " 24  revenue_rub             189830 non-null  float64       \n",
      " 25  one_ticket_revenue_rub  189830 non-null  float64       \n",
      " 26  month                   189830 non-null  int64         \n",
      " 27  season                  189830 non-null  object        \n",
      "dtypes: datetime64[ns](2), float32(3), float64(2), int16(1), int32(3), int64(1), int8(2), object(14)\n",
      "memory usage: 34.0+ MB\n"
     ]
    }
   ],
   "source": [
    "valid_merged_data.info()"
   ]
  },
  {
   "cell_type": "markdown",
   "id": "ed08a14e",
   "metadata": {},
   "source": [
    "Создали 4 новых столбца. 'revenue_rub' - привели выручку к рублевому эквиваленту. 'one_ticket_revenue_rub' - средняя выручка с одного билета. Далее выделили месяц 'month' и сезон 'season'."
   ]
  },
  {
   "cell_type": "markdown",
   "id": "b62d1a10",
   "metadata": {},
   "source": [
    "#### 4.3. Исследовательский анализ данных\n",
    "##### Анализ распределения заказов по сегментам и их сезонные изменения"
   ]
  },
  {
   "cell_type": "markdown",
   "id": "bcea9d88",
   "metadata": {},
   "source": [
    "Анализ дашборда показал, что в данных наблюдается сезонность — осенью количество заказов увеличивается. На стадии исследовательского анализа изучите изменение пользовательской активности или пользовательского интереса в связи с сезонностью.\n",
    "\n",
    "Анализируйте динамику по таким разрезам:\n",
    "- тип мероприятия event_type_main;\n",
    "- тип устройства device_type_canonical;\n",
    "- категория мероприятий по возрастному рейтингу age_limit.\n",
    "\n",
    "В этом разделе изучите распределение заказов по сегментам и их сезонные изменения, выполнив следующие шаги:\n",
    "- **Для каждого месяца найдите количество заказов** и визуализируйте результаты. Проверьте, фиксируется ли увеличение заказов от июня к ноябрю 2024 года.\n",
    "- **Для осеннего и летнего периодов сравните распределение заказов билетов** по разным категориям: тип мероприятия, тип устройства, категория мероприятия по возрастному рейтингу. Результаты визуализируйте подходящим графиком, который поможет сопоставить значения для летнего и осеннего сезонов. Рекомендация: поскольку абсолютное количество заказов в разные сезоны может меняться, при сопоставлении результатов для каждого сегмента используйте доли.\n",
    "- **Изучите изменение выручки с продажи одного билета** в зависимости от типа мероприятия летом и осенью. Видна ли динамика средней стоимости билета в разрезе разных категорий мероприятий? Для каждого типа мероприятия рассчитайте среднее значение выручки с одного билета, затем найдите относительное изменение осенних значений по сравнению с летними. Результат сопроводите подходящей визуализацией.\n",
    "- **Сделайте вывод** о том, как меняется распределение заказов в каждой категории с наступлением осени. Было ли изменение средней стоимости одного билета в разрезе разных типов мероприятий?"
   ]
  },
  {
   "cell_type": "code",
   "execution_count": 23,
   "id": "4405a954",
   "metadata": {},
   "outputs": [
    {
     "data": {
      "image/png": "[encoded data removed]",
      "text/plain": [
       "<Figure size 720x432 with 1 Axes>"
      ]
     },
     "metadata": {
      "needs_background": "light"
     },
     "output_type": "display_data"
    }
   ],
   "source": [
    "monthly_orders = valid_merged_data.groupby('month')['order_id'].count()\n",
    "monthly_orders.plot(kind='bar', figsize=(10, 6))\n",
    "plt.xlabel('Месяц')\n",
    "plt.ylabel('Количество заказов')\n",
    "plt.title('Изменение количества заказов по месяцам')\n",
    "plt.xticks(rotation=0)\n",
    "plt.show()"
   ]
  },
  {
   "cell_type": "markdown",
   "id": "3811485b",
   "metadata": {},
   "source": [
    "К осени наблюдается рост заказов."
   ]
  },
  {
   "cell_type": "code",
   "execution_count": 24,
   "id": "1003ef01",
   "metadata": {},
   "outputs": [
    {
     "data": {
      "text/html": [
       "<div>\n",
       "<style scoped>\n",
       "    .dataframe tbody tr th:only-of-type {\n",
       "        vertical-align: middle;\n",
       "    }\n",
       "\n",
       "    .dataframe tbody tr th {\n",
       "        vertical-align: top;\n",
       "    }\n",
       "\n",
       "    .dataframe thead th {\n",
       "        text-align: right;\n",
       "    }\n",
       "</style>\n",
       "<table border=\"1\" class=\"dataframe\">\n",
       "  <thead>\n",
       "    <tr style=\"text-align: right;\">\n",
       "      <th>season</th>\n",
       "      <th>Лето</th>\n",
       "      <th>Осень</th>\n",
       "    </tr>\n",
       "    <tr>\n",
       "      <th>event_type_main</th>\n",
       "      <th></th>\n",
       "      <th></th>\n",
       "    </tr>\n",
       "  </thead>\n",
       "  <tbody>\n",
       "    <tr>\n",
       "      <th>выставки</th>\n",
       "      <td>0.021918</td>\n",
       "      <td>0.016196</td>\n",
       "    </tr>\n",
       "    <tr>\n",
       "      <th>другое</th>\n",
       "      <td>0.271010</td>\n",
       "      <td>0.211935</td>\n",
       "    </tr>\n",
       "    <tr>\n",
       "      <th>концерты</th>\n",
       "      <td>0.432042</td>\n",
       "      <td>0.392550</td>\n",
       "    </tr>\n",
       "    <tr>\n",
       "      <th>спорт</th>\n",
       "      <td>0.021276</td>\n",
       "      <td>0.068662</td>\n",
       "    </tr>\n",
       "    <tr>\n",
       "      <th>стендап</th>\n",
       "      <td>0.056963</td>\n",
       "      <td>0.045893</td>\n",
       "    </tr>\n",
       "    <tr>\n",
       "      <th>театр</th>\n",
       "      <td>0.194442</td>\n",
       "      <td>0.254331</td>\n",
       "    </tr>\n",
       "    <tr>\n",
       "      <th>ёлки</th>\n",
       "      <td>0.002349</td>\n",
       "      <td>0.010434</td>\n",
       "    </tr>\n",
       "  </tbody>\n",
       "</table>\n",
       "</div>"
      ],
      "text/plain": [
       "season               Лето     Осень\n",
       "event_type_main                    \n",
       "выставки         0.021918  0.016196\n",
       "другое           0.271010  0.211935\n",
       "концерты         0.432042  0.392550\n",
       "спорт            0.021276  0.068662\n",
       "стендап          0.056963  0.045893\n",
       "театр            0.194442  0.254331\n",
       "ёлки             0.002349  0.010434"
      ]
     },
     "metadata": {},
     "output_type": "display_data"
    },
    {
     "data": {
      "image/png": "[encoded data removed]",
      "text/plain": [
       "<Figure size 720x432 with 1 Axes>"
      ]
     },
     "metadata": {
      "needs_background": "light"
     },
     "output_type": "display_data"
    }
   ],
   "source": [
    "fall_summer_comparison = valid_merged_data.query(\"month in [6, 7, 8, 9, 10]\")\n",
    "fall_summer_grouped = fall_summer_comparison.groupby(['event_type_main', 'season'])['order_id'].count().unstack(fill_value=0)\n",
    "fall_summer_grouped_pct = fall_summer_grouped.divide(fall_summer_grouped.sum(axis=0), axis=1)\n",
    "display(fall_summer_grouped_pct)\n",
    "\n",
    "fall_summer_grouped_pct.plot(kind='bar', figsize=(10, 6))\n",
    "plt.legend(title='Сезон')\n",
    "plt.xlabel('Тип мероприятия')\n",
    "plt.ylabel('Доли заказов')\n",
    "plt.title('Сравнение доли заказов по типам мероприятий летом и осенью')\n",
    "plt.show()"
   ]
  },
  {
   "cell_type": "markdown",
   "id": "9e3f8390",
   "metadata": {},
   "source": [
    "Наблюдаем популярность мероприятия  \"театр\", \"елки\", \"спорт\" в осенний период, \"стендап\" более популярен в летний сезон. "
   ]
  },
  {
   "cell_type": "code",
   "execution_count": 25,
   "id": "108026ce",
   "metadata": {},
   "outputs": [
    {
     "data": {
      "text/html": [
       "<div>\n",
       "<style scoped>\n",
       "    .dataframe tbody tr th:only-of-type {\n",
       "        vertical-align: middle;\n",
       "    }\n",
       "\n",
       "    .dataframe tbody tr th {\n",
       "        vertical-align: top;\n",
       "    }\n",
       "\n",
       "    .dataframe thead th {\n",
       "        text-align: right;\n",
       "    }\n",
       "</style>\n",
       "<table border=\"1\" class=\"dataframe\">\n",
       "  <thead>\n",
       "    <tr style=\"text-align: right;\">\n",
       "      <th>season</th>\n",
       "      <th>Лето</th>\n",
       "      <th>Осень</th>\n",
       "    </tr>\n",
       "    <tr>\n",
       "      <th>device_type_canonical</th>\n",
       "      <th></th>\n",
       "      <th></th>\n",
       "    </tr>\n",
       "  </thead>\n",
       "  <tbody>\n",
       "    <tr>\n",
       "      <th>desktop</th>\n",
       "      <td>0.187212</td>\n",
       "      <td>0.184597</td>\n",
       "    </tr>\n",
       "    <tr>\n",
       "      <th>mobile</th>\n",
       "      <td>0.812788</td>\n",
       "      <td>0.815403</td>\n",
       "    </tr>\n",
       "  </tbody>\n",
       "</table>\n",
       "</div>"
      ],
      "text/plain": [
       "season                     Лето     Осень\n",
       "device_type_canonical                    \n",
       "desktop                0.187212  0.184597\n",
       "mobile                 0.812788  0.815403"
      ]
     },
     "metadata": {},
     "output_type": "display_data"
    },
    {
     "data": {
      "image/png": "[encoded data removed]",
      "text/plain": [
       "<Figure size 720x432 with 1 Axes>"
      ]
     },
     "metadata": {
      "needs_background": "light"
     },
     "output_type": "display_data"
    }
   ],
   "source": [
    "fall_summer_device = fall_summer_comparison.groupby(['device_type_canonical', 'season'])['order_id'].count().unstack(fill_value=0)\n",
    "fall_summer_device_pct = fall_summer_device.divide(fall_summer_device.sum(axis=0), axis=1)\n",
    "display(fall_summer_device_pct)\n",
    "\n",
    "fall_summer_device_pct.plot(kind='bar', figsize=(10, 6)) \n",
    "plt.legend(title='Сезон')\n",
    "plt.xlabel('Доли заказов')\n",
    "plt.ylabel('Тип устройства')\n",
    "plt.title('Сравнение доли заказов по типам устройств летом и осенью')\n",
    "plt.show()"
   ]
  },
  {
   "cell_type": "markdown",
   "id": "cfa9de5c",
   "metadata": {},
   "source": [
    "Сезонность не влияет на использование типа устройств."
   ]
  },
  {
   "cell_type": "code",
   "execution_count": 26,
   "id": "c6ca413e",
   "metadata": {},
   "outputs": [
    {
     "data": {
      "text/html": [
       "<div>\n",
       "<style scoped>\n",
       "    .dataframe tbody tr th:only-of-type {\n",
       "        vertical-align: middle;\n",
       "    }\n",
       "\n",
       "    .dataframe tbody tr th {\n",
       "        vertical-align: top;\n",
       "    }\n",
       "\n",
       "    .dataframe thead th {\n",
       "        text-align: right;\n",
       "    }\n",
       "</style>\n",
       "<table border=\"1\" class=\"dataframe\">\n",
       "  <thead>\n",
       "    <tr style=\"text-align: right;\">\n",
       "      <th>season</th>\n",
       "      <th>Лето</th>\n",
       "      <th>Осень</th>\n",
       "    </tr>\n",
       "    <tr>\n",
       "      <th>age_limit</th>\n",
       "      <th></th>\n",
       "      <th></th>\n",
       "    </tr>\n",
       "  </thead>\n",
       "  <tbody>\n",
       "    <tr>\n",
       "      <th>0</th>\n",
       "      <td>0.178651</td>\n",
       "      <td>0.201156</td>\n",
       "    </tr>\n",
       "    <tr>\n",
       "      <th>6</th>\n",
       "      <td>0.180262</td>\n",
       "      <td>0.188448</td>\n",
       "    </tr>\n",
       "    <tr>\n",
       "      <th>12</th>\n",
       "      <td>0.201756</td>\n",
       "      <td>0.226480</td>\n",
       "    </tr>\n",
       "    <tr>\n",
       "      <th>16</th>\n",
       "      <td>0.285650</td>\n",
       "      <td>0.267273</td>\n",
       "    </tr>\n",
       "    <tr>\n",
       "      <th>18</th>\n",
       "      <td>0.153681</td>\n",
       "      <td>0.116643</td>\n",
       "    </tr>\n",
       "  </tbody>\n",
       "</table>\n",
       "</div>"
      ],
      "text/plain": [
       "season         Лето     Осень\n",
       "age_limit                    \n",
       "0          0.178651  0.201156\n",
       "6          0.180262  0.188448\n",
       "12         0.201756  0.226480\n",
       "16         0.285650  0.267273\n",
       "18         0.153681  0.116643"
      ]
     },
     "metadata": {},
     "output_type": "display_data"
    },
    {
     "data": {
      "image/png": "[encoded data removed]",
      "text/plain": [
       "<Figure size 720x432 with 1 Axes>"
      ]
     },
     "metadata": {
      "needs_background": "light"
     },
     "output_type": "display_data"
    }
   ],
   "source": [
    "fall_summer_age = fall_summer_comparison.groupby(['age_limit', 'season'])['order_id'].count().unstack(fill_value=0)\n",
    "fall_summer_age_pct = fall_summer_age.divide(fall_summer_age.sum(axis=0), axis=1)\n",
    "display(fall_summer_age_pct)\n",
    "\n",
    "fall_summer_age_pct.plot(kind='bar', figsize=(10, 6))\n",
    "plt.legend(title='Сезон')\n",
    "plt.xlabel('Доли заказов')\n",
    "plt.ylabel('Возрастной рейтинг')\n",
    "plt.title('Сравнение доли заказов по возрастным рейтингам летом и осенью')\n",
    "plt.show()"
   ]
  },
  {
   "cell_type": "markdown",
   "id": "972d93a0",
   "metadata": {},
   "source": [
    "Осенью падает интерес у мероприятий с возрастным рейтингом.  "
   ]
  },
  {
   "cell_type": "code",
   "execution_count": 27,
   "id": "9015dc65",
   "metadata": {},
   "outputs": [
    {
     "data": {
      "text/html": [
       "<div>\n",
       "<style scoped>\n",
       "    .dataframe tbody tr th:only-of-type {\n",
       "        vertical-align: middle;\n",
       "    }\n",
       "\n",
       "    .dataframe tbody tr th {\n",
       "        vertical-align: top;\n",
       "    }\n",
       "\n",
       "    .dataframe thead th {\n",
       "        text-align: right;\n",
       "    }\n",
       "</style>\n",
       "<table border=\"1\" class=\"dataframe\">\n",
       "  <thead>\n",
       "    <tr style=\"text-align: right;\">\n",
       "      <th></th>\n",
       "      <th></th>\n",
       "      <th>avg_ticket_price</th>\n",
       "    </tr>\n",
       "    <tr>\n",
       "      <th>event_type_main</th>\n",
       "      <th>season</th>\n",
       "      <th></th>\n",
       "    </tr>\n",
       "  </thead>\n",
       "  <tbody>\n",
       "    <tr>\n",
       "      <th rowspan=\"2\" valign=\"top\">выставки</th>\n",
       "      <th>Лето</th>\n",
       "      <td>86.979815</td>\n",
       "    </tr>\n",
       "    <tr>\n",
       "      <th>Осень</th>\n",
       "      <td>90.902630</td>\n",
       "    </tr>\n",
       "    <tr>\n",
       "      <th rowspan=\"2\" valign=\"top\">другое</th>\n",
       "      <th>Лето</th>\n",
       "      <td>79.832967</td>\n",
       "    </tr>\n",
       "    <tr>\n",
       "      <th>Осень</th>\n",
       "      <td>78.629488</td>\n",
       "    </tr>\n",
       "    <tr>\n",
       "      <th rowspan=\"2\" valign=\"top\">концерты</th>\n",
       "      <th>Лето</th>\n",
       "      <td>295.576288</td>\n",
       "    </tr>\n",
       "    <tr>\n",
       "      <th>Осень</th>\n",
       "      <td>273.455310</td>\n",
       "    </tr>\n",
       "    <tr>\n",
       "      <th rowspan=\"2\" valign=\"top\">спорт</th>\n",
       "      <th>Лето</th>\n",
       "      <td>57.698445</td>\n",
       "    </tr>\n",
       "    <tr>\n",
       "      <th>Осень</th>\n",
       "      <td>58.576498</td>\n",
       "    </tr>\n",
       "    <tr>\n",
       "      <th rowspan=\"2\" valign=\"top\">стендап</th>\n",
       "      <th>Лето</th>\n",
       "      <td>215.144685</td>\n",
       "    </tr>\n",
       "    <tr>\n",
       "      <th>Осень</th>\n",
       "      <td>231.886412</td>\n",
       "    </tr>\n",
       "    <tr>\n",
       "      <th rowspan=\"2\" valign=\"top\">театр</th>\n",
       "      <th>Лето</th>\n",
       "      <td>211.914825</td>\n",
       "    </tr>\n",
       "    <tr>\n",
       "      <th>Осень</th>\n",
       "      <td>176.583102</td>\n",
       "    </tr>\n",
       "    <tr>\n",
       "      <th rowspan=\"2\" valign=\"top\">ёлки</th>\n",
       "      <th>Лето</th>\n",
       "      <td>277.689869</td>\n",
       "    </tr>\n",
       "    <tr>\n",
       "      <th>Осень</th>\n",
       "      <td>233.073022</td>\n",
       "    </tr>\n",
       "  </tbody>\n",
       "</table>\n",
       "</div>"
      ],
      "text/plain": [
       "                        avg_ticket_price\n",
       "event_type_main season                  \n",
       "выставки        Лето           86.979815\n",
       "                Осень          90.902630\n",
       "другое          Лето           79.832967\n",
       "                Осень          78.629488\n",
       "концерты        Лето          295.576288\n",
       "                Осень         273.455310\n",
       "спорт           Лето           57.698445\n",
       "                Осень          58.576498\n",
       "стендап         Лето          215.144685\n",
       "                Осень         231.886412\n",
       "театр           Лето          211.914825\n",
       "                Осень         176.583102\n",
       "ёлки            Лето          277.689869\n",
       "                Осень         233.073022"
      ]
     },
     "metadata": {},
     "output_type": "display_data"
    },
    {
     "data": {
      "image/png": "[encoded data removed]",
      "text/plain": [
       "<Figure size 720x432 with 1 Axes>"
      ]
     },
     "metadata": {
      "needs_background": "light"
     },
     "output_type": "display_data"
    }
   ],
   "source": [
    "ticket_price_analysis = valid_merged_data.query(\"month in [6, 7, 8, 9, 10]\")[['event_type_main', 'season', 'one_ticket_revenue_rub']]\\\n",
    "                    .groupby(['event_type_main', 'season'])\\\n",
    "                    .agg({'one_ticket_revenue_rub': 'mean'})\\\n",
    "                    .rename(columns={'one_ticket_revenue_rub': 'avg_ticket_price'})\n",
    "display(ticket_price_analysis)\n",
    "\n",
    "ticket_price_analysis.unstack().plot(kind='bar', figsize=(10, 6))\n",
    "plt.xlabel('Тип мероприятия')\n",
    "plt.ylabel('Средняя стоимость билета')\n",
    "plt.title('Средняя стоимость билетов летом и осенью по типам мероприятий')\n",
    "plt.legend(title='Сезон')\n",
    "plt.show()"
   ]
  },
  {
   "cell_type": "code",
   "execution_count": 28,
   "id": "a6d9ce23",
   "metadata": {},
   "outputs": [
    {
     "data": {
      "image/png": "[encoded data removed]",
      "text/plain": [
       "<Figure size 864x432 with 1 Axes>"
      ]
     },
     "metadata": {
      "needs_background": "light"
     },
     "output_type": "display_data"
    }
   ],
   "source": [
    "ticket_price_unstacked = ticket_price_analysis.unstack()\n",
    "ticket_price_unstacked.columns = ticket_price_unstacked.columns.get_level_values(1)\n",
    "ticket_price_change = ((ticket_price_unstacked['Осень'] - ticket_price_unstacked['Лето']) / ticket_price_unstacked['Лето']) * 100\n",
    "ticket_price_change=ticket_price_change.sort_values(ascending=False)\n",
    "colors = ['green' if val >= 0 else 'red' for val in ticket_price_change.values]\n",
    "\n",
    "plt.figure(figsize=(12, 6))\n",
    "bars = plt.bar(ticket_price_change.index, ticket_price_change.values, color=colors)\n",
    "plt.xlabel('Тип мероприятия', fontsize=12)\n",
    "plt.ylabel('Изменение цены (%)', fontsize=12)\n",
    "plt.title('Относительное изменение средней цены билета осенью по сравнению с летом', fontsize=14)\n",
    "plt.xticks(rotation=45, ha='right')\n",
    "\n",
    "for bar in bars:\n",
    "    height = bar.get_height()\n",
    "    plt.annotate(f'{height:.1f}%', xy=(bar.get_x() + bar.get_width() / 2, height),\n",
    "                 xytext=(0, 3), textcoords=\"offset points\",\n",
    "                 ha='center', va='bottom', fontsize=10)\n",
    "plt.grid(axis='y', linestyle='--', alpha=0.7)\n",
    "plt.show()"
   ]
  },
  {
   "cell_type": "markdown",
   "id": "e6977c55",
   "metadata": {},
   "source": [
    "В летний период цена билетов на концерты, театры, ёлки увеличивается. Наблюдается рост заказов в осенний период, начиная с сентября. Летом популярностью пользовались концерты (43%), осенью стали более востребованы театры (25%). Независимо от сезона подавляющее большинство заказов (более 80%) осуществляется с мобильных устройств. Осенью возрастает спрос на мероприятия с возрастным лимитом 0+, 6+ и 12+, а мероприятия с высоким возрастом допуска (18+) становятся менее популярны. Театральные билеты подешевели сильнее всего осенью, билеты на концерты так же потеряли в цене осенью. Возможно, осенью проводят больше культурных мероприятий и для привлечения зрителей вводятся сезонные скидки. Стендап и выставки, наоборот, подоражили осенью, скорее всего это связано с новыми музейными экспозициями после летних каникул и свежими шутками от комиков после отдыха."
   ]
  },
  {
   "cell_type": "markdown",
   "id": "d21a359e",
   "metadata": {},
   "source": [
    " ##### Осенняя активность пользователей"
   ]
  },
  {
   "cell_type": "markdown",
   "id": "7bd6ba53",
   "metadata": {},
   "source": [
    "Изучите активность пользователей осенью 2024 года. В вашем распоряжении данные за два осенних месяца. Используйте только эти данные и сделайте следующее:\n",
    "- **Проанализируйте динамику изменений по дням для:**\n",
    "    - общего числа заказов;\n",
    "    - количества активных пользователей DAU;\n",
    "    - среднего числа заказов на одного пользователя;\n",
    "    - средней стоимости одного билета.\n",
    "Рекомендация: удобно создать одну сводную таблицу, и в ней по дням рассчитать число заказов и число уникальных пользователей, а затем найти величину — количество заказов на одного пользователя. Полученные результаты можно визуализировать с помощью линейного графика. Подобные графики вы строили на дашборде, только делали это с агрегацией по неделям.\n",
    "- **Изучите недельную цикличность.** Выделите день недели и сравните пользовательскую активность в будни и выходные.\n",
    "- **Напишите промежуточный вывод** о пользовательской активности и недельной цикличности."
   ]
  },
  {
   "cell_type": "code",
   "execution_count": 29,
   "id": "11dd02fe",
   "metadata": {},
   "outputs": [],
   "source": [
    "autumn_data = valid_merged_data[\n",
    "    (valid_merged_data['created_dt_msk'].dt.month >= 9) &\n",
    "    (valid_merged_data['created_dt_msk'].dt.month <= 10)\n",
    "].copy()\n",
    "\n",
    "autumn_data['day_of_week'] = autumn_data['created_dt_msk'].dt.day_name()\n",
    "autumn_data['day_of_week_num'] = autumn_data['created_dt_msk'].dt.weekday"
   ]
  },
  {
   "cell_type": "code",
   "execution_count": 30,
   "id": "db074b45",
   "metadata": {},
   "outputs": [
    {
     "data": {
      "text/html": [
       "<div>\n",
       "<style scoped>\n",
       "    .dataframe tbody tr th:only-of-type {\n",
       "        vertical-align: middle;\n",
       "    }\n",
       "\n",
       "    .dataframe tbody tr th {\n",
       "        vertical-align: top;\n",
       "    }\n",
       "\n",
       "    .dataframe thead th {\n",
       "        text-align: right;\n",
       "    }\n",
       "</style>\n",
       "<table border=\"1\" class=\"dataframe\">\n",
       "  <thead>\n",
       "    <tr style=\"text-align: right;\">\n",
       "      <th></th>\n",
       "      <th>total_orders</th>\n",
       "      <th>unique_users</th>\n",
       "      <th>total_revenue_rub</th>\n",
       "      <th>orders_per_user</th>\n",
       "      <th>avg_ticket_price</th>\n",
       "    </tr>\n",
       "    <tr>\n",
       "      <th>created_dt_msk</th>\n",
       "      <th></th>\n",
       "      <th></th>\n",
       "      <th></th>\n",
       "      <th></th>\n",
       "      <th></th>\n",
       "    </tr>\n",
       "  </thead>\n",
       "  <tbody>\n",
       "    <tr>\n",
       "      <th>2024-09-01</th>\n",
       "      <td>900</td>\n",
       "      <td>564</td>\n",
       "      <td>477964.184924</td>\n",
       "      <td>1.595745</td>\n",
       "      <td>531.071317</td>\n",
       "    </tr>\n",
       "    <tr>\n",
       "      <th>2024-09-02</th>\n",
       "      <td>984</td>\n",
       "      <td>574</td>\n",
       "      <td>499350.386365</td>\n",
       "      <td>1.714286</td>\n",
       "      <td>507.469905</td>\n",
       "    </tr>\n",
       "    <tr>\n",
       "      <th>2024-09-03</th>\n",
       "      <td>1537</td>\n",
       "      <td>778</td>\n",
       "      <td>582228.462064</td>\n",
       "      <td>1.975578</td>\n",
       "      <td>378.808368</td>\n",
       "    </tr>\n",
       "    <tr>\n",
       "      <th>2024-09-04</th>\n",
       "      <td>1170</td>\n",
       "      <td>686</td>\n",
       "      <td>582043.423558</td>\n",
       "      <td>1.705539</td>\n",
       "      <td>497.473012</td>\n",
       "    </tr>\n",
       "    <tr>\n",
       "      <th>2024-09-05</th>\n",
       "      <td>1359</td>\n",
       "      <td>739</td>\n",
       "      <td>702161.490159</td>\n",
       "      <td>1.838972</td>\n",
       "      <td>516.675122</td>\n",
       "    </tr>\n",
       "  </tbody>\n",
       "</table>\n",
       "</div>"
      ],
      "text/plain": [
       "                total_orders  unique_users  total_revenue_rub  \\\n",
       "created_dt_msk                                                  \n",
       "2024-09-01               900           564      477964.184924   \n",
       "2024-09-02               984           574      499350.386365   \n",
       "2024-09-03              1537           778      582228.462064   \n",
       "2024-09-04              1170           686      582043.423558   \n",
       "2024-09-05              1359           739      702161.490159   \n",
       "\n",
       "                orders_per_user  avg_ticket_price  \n",
       "created_dt_msk                                     \n",
       "2024-09-01             1.595745        531.071317  \n",
       "2024-09-02             1.714286        507.469905  \n",
       "2024-09-03             1.975578        378.808368  \n",
       "2024-09-04             1.705539        497.473012  \n",
       "2024-09-05             1.838972        516.675122  "
      ]
     },
     "metadata": {},
     "output_type": "display_data"
    }
   ],
   "source": [
    "daily_activity = autumn_data.groupby('created_dt_msk').agg(\n",
    "    total_orders=('order_id', 'count'),\n",
    "    unique_users=('user_id', 'nunique'),\n",
    "    total_revenue_rub=('revenue_rub', 'sum'))\n",
    "\n",
    "daily_activity['orders_per_user'] = daily_activity['total_orders'] / daily_activity['unique_users']\n",
    "daily_activity['avg_ticket_price'] = daily_activity['total_revenue_rub'] / daily_activity['total_orders']\n",
    "\n",
    "display(daily_activity.head())"
   ]
  },
  {
   "cell_type": "code",
   "execution_count": 31,
   "id": "583ad5c9",
   "metadata": {},
   "outputs": [
    {
     "data": {
      "image/png": "[encoded data removed]",
      "text/plain": [
       "<Figure size 1080x1440 with 4 Axes>"
      ]
     },
     "metadata": {
      "needs_background": "light"
     },
     "output_type": "display_data"
    }
   ],
   "source": [
    "fig, axes = plt.subplots(4, 1, figsize=(15, 20))\n",
    "\n",
    "sns.lineplot(ax=axes[0], data=daily_activity, x=daily_activity.index, y='total_orders')\n",
    "axes[0].set_title('Общее число заказов по дням')\n",
    "axes[0].tick_params(axis='x', rotation=45)\n",
    "\n",
    "sns.lineplot(ax=axes[1], data=daily_activity, x=daily_activity.index, y='unique_users')\n",
    "axes[1].set_title('Количество активных пользователей (DAU) по дням')\n",
    "axes[1].tick_params(axis='x', rotation=45)\n",
    "\n",
    "sns.lineplot(ax=axes[2], data=daily_activity, x=daily_activity.index, y='orders_per_user')\n",
    "axes[2].set_title('Среднее число заказов на одного пользователя по дням')\n",
    "axes[2].tick_params(axis='x', rotation=45)\n",
    "\n",
    "sns.lineplot(ax=axes[3], data=daily_activity, x=daily_activity.index, y='avg_ticket_price')\n",
    "axes[3].set_title('Средняя стоимость одного билета по дням')\n",
    "axes[3].tick_params(axis='x', rotation=45)\n",
    "\n",
    "plt.tight_layout()\n",
    "plt.show()"
   ]
  },
  {
   "cell_type": "code",
   "execution_count": 32,
   "id": "98ce6b6d",
   "metadata": {},
   "outputs": [
    {
     "data": {
      "text/html": [
       "<div>\n",
       "<style scoped>\n",
       "    .dataframe tbody tr th:only-of-type {\n",
       "        vertical-align: middle;\n",
       "    }\n",
       "\n",
       "    .dataframe tbody tr th {\n",
       "        vertical-align: top;\n",
       "    }\n",
       "\n",
       "    .dataframe thead th {\n",
       "        text-align: right;\n",
       "    }\n",
       "</style>\n",
       "<table border=\"1\" class=\"dataframe\">\n",
       "  <thead>\n",
       "    <tr style=\"text-align: right;\">\n",
       "      <th></th>\n",
       "      <th>total_orders</th>\n",
       "      <th>unique_users</th>\n",
       "      <th>total_revenue_rub</th>\n",
       "      <th>orders_per_user</th>\n",
       "      <th>avg_ticket_price</th>\n",
       "    </tr>\n",
       "  </thead>\n",
       "  <tbody>\n",
       "    <tr>\n",
       "      <th>Пн</th>\n",
       "      <td>14419</td>\n",
       "      <td>4446</td>\n",
       "      <td>7.374332e+06</td>\n",
       "      <td>3.243140</td>\n",
       "      <td>511.431560</td>\n",
       "    </tr>\n",
       "    <tr>\n",
       "      <th>Вт</th>\n",
       "      <td>16382</td>\n",
       "      <td>4794</td>\n",
       "      <td>7.832029e+06</td>\n",
       "      <td>3.417188</td>\n",
       "      <td>478.087489</td>\n",
       "    </tr>\n",
       "    <tr>\n",
       "      <th>Ср</th>\n",
       "      <td>15586</td>\n",
       "      <td>4815</td>\n",
       "      <td>7.935229e+06</td>\n",
       "      <td>3.236968</td>\n",
       "      <td>509.125442</td>\n",
       "    </tr>\n",
       "    <tr>\n",
       "      <th>Чт</th>\n",
       "      <td>16814</td>\n",
       "      <td>4970</td>\n",
       "      <td>8.502287e+06</td>\n",
       "      <td>3.383099</td>\n",
       "      <td>505.667132</td>\n",
       "    </tr>\n",
       "    <tr>\n",
       "      <th>Пт</th>\n",
       "      <td>15956</td>\n",
       "      <td>4870</td>\n",
       "      <td>8.251863e+06</td>\n",
       "      <td>3.276386</td>\n",
       "      <td>517.163639</td>\n",
       "    </tr>\n",
       "    <tr>\n",
       "      <th>Сб</th>\n",
       "      <td>14533</td>\n",
       "      <td>4574</td>\n",
       "      <td>7.742674e+06</td>\n",
       "      <td>3.177307</td>\n",
       "      <td>532.764983</td>\n",
       "    </tr>\n",
       "    <tr>\n",
       "      <th>Вс</th>\n",
       "      <td>13560</td>\n",
       "      <td>4395</td>\n",
       "      <td>7.279473e+06</td>\n",
       "      <td>3.085324</td>\n",
       "      <td>536.834314</td>\n",
       "    </tr>\n",
       "  </tbody>\n",
       "</table>\n",
       "</div>"
      ],
      "text/plain": [
       "    total_orders  unique_users  total_revenue_rub  orders_per_user  \\\n",
       "Пн         14419          4446       7.374332e+06         3.243140   \n",
       "Вт         16382          4794       7.832029e+06         3.417188   \n",
       "Ср         15586          4815       7.935229e+06         3.236968   \n",
       "Чт         16814          4970       8.502287e+06         3.383099   \n",
       "Пт         15956          4870       8.251863e+06         3.276386   \n",
       "Сб         14533          4574       7.742674e+06         3.177307   \n",
       "Вс         13560          4395       7.279473e+06         3.085324   \n",
       "\n",
       "    avg_ticket_price  \n",
       "Пн        511.431560  \n",
       "Вт        478.087489  \n",
       "Ср        509.125442  \n",
       "Чт        505.667132  \n",
       "Пт        517.163639  \n",
       "Сб        532.764983  \n",
       "Вс        536.834314  "
      ]
     },
     "metadata": {},
     "output_type": "display_data"
    }
   ],
   "source": [
    "weekday_activity = autumn_data.groupby('day_of_week_num').agg(\n",
    "    total_orders=('order_id', 'count'),\n",
    "    unique_users=('user_id', 'nunique'),\n",
    "    total_revenue_rub=('revenue_rub', 'sum'))\n",
    "\n",
    "weekday_activity['orders_per_user'] = weekday_activity['total_orders'] / weekday_activity['unique_users']\n",
    "weekday_activity['avg_ticket_price'] = weekday_activity['total_revenue_rub'] / weekday_activity['total_orders']\n",
    "\n",
    "weekday_activity.index = ['Пн', 'Вт', 'Ср', 'Чт', 'Пт', 'Сб', 'Вс']\n",
    "display(weekday_activity)"
   ]
  },
  {
   "cell_type": "code",
   "execution_count": 33,
   "id": "d5a42284",
   "metadata": {},
   "outputs": [
    {
     "data": {
      "image/png": "[encoded data removed]",
      "text/plain": [
       "<Figure size 864x864 with 2 Axes>"
      ]
     },
     "metadata": {
      "needs_background": "light"
     },
     "output_type": "display_data"
    }
   ],
   "source": [
    "fig, axes = plt.subplots(2, 1, figsize=(12, 12))\n",
    "\n",
    "sns.barplot(ax=axes[0], data=weekday_activity, x=weekday_activity.index, y='total_orders')\n",
    "axes[0].set_title('Общее число заказов по дням недели')\n",
    "\n",
    "sns.barplot(ax=axes[1], data=weekday_activity, x=weekday_activity.index, y='unique_users')\n",
    "axes[1].set_title('Количество активных пользователей по дням недели')\n",
    "\n",
    "plt.tight_layout()\n",
    "plt.show()"
   ]
  },
  {
   "cell_type": "markdown",
   "id": "e1abb734",
   "metadata": {},
   "source": [
    "Четкого тренда постоянного роста или спада числа заказов и выручки не наблюдалось - плавная потребительская активность. На начало периода 1 сент ативность 900 заказов, пик заказов 3 сент 1537, потом немного снизилась, но была все равно высокой. Цена варьировалась умеренно, колебалась от 378 до 531 рубля за билет. Максимальная стоимость в первый день (1 сент). Количество уникальных пользователей (DAU) составляло от 564 до 778 человек, указывает на стабильность вовлечённости.\n",
    "На одного активного пользователя приходилось от 1,6 до 1,9 заказов, это свидетельствует о высоком количестве однократных покупок. Самая высокая активность приходится на вторник и четверг, когда зарегистрировано максимальное количество заказов. Совпадение аномальных всплесков средней цены и количества заказов может говорить о проведении акций/распродаж в эти дни. Самые активные дни приходятся на середину недели. Суббота и воскресенье показывают наименьшую активность, хотя разница между рабочими и выходными днями невелика. Стоимость билетов самая низкая в середине недели (во вторник), повышаясь к концу недели (суббота и воскресенье). \n"
   ]
  },
  {
   "cell_type": "markdown",
   "id": "1b40085d",
   "metadata": {},
   "source": [
    "##### Популярные события и партнёры\n",
    "После того как изучите изменение популярности событий и пользовательской активности осенью 2024 года, посмотрите, как события распределены по регионам и партнёрам. Это позволит выделить ключевые регионы и партнёров, которые вносят наибольший вклад в выручку.\n",
    "- Для каждого **региона** посчитайте уникальное количество мероприятий и общее число заказов. В каких регионах предлагается наибольшее разнообразие мероприятий?\n",
    "- Для каждого **билетного партнёра** посчитайте общее число уникальных мероприятий, обработанных заказов и суммарную выручку с заказов билетов. Сделайте акцент на наиболее активных партнёрах.\n",
    "\n",
    "Рекомендация: исследуйте не только абсолютные значения, но и доли. Например, для каждого региона посчитайте долю проводимых мероприятий от их общего числа или долю заказов в регионе от общего числа заказов.\n",
    "\n",
    "В конце напишите промежуточный вывод, проанализируйте не только топ-категории, но и общее распределение данных между категориями. Существуют ли явные лидеры среди регионов и партнёров?\n",
    "\n"
   ]
  },
  {
   "cell_type": "code",
   "execution_count": 34,
   "id": "3b766e45",
   "metadata": {},
   "outputs": [
    {
     "data": {
      "text/html": [
       "<div>\n",
       "<style scoped>\n",
       "    .dataframe tbody tr th:only-of-type {\n",
       "        vertical-align: middle;\n",
       "    }\n",
       "\n",
       "    .dataframe tbody tr th {\n",
       "        vertical-align: top;\n",
       "    }\n",
       "\n",
       "    .dataframe thead th {\n",
       "        text-align: right;\n",
       "    }\n",
       "</style>\n",
       "<table border=\"1\" class=\"dataframe\">\n",
       "  <thead>\n",
       "    <tr style=\"text-align: right;\">\n",
       "      <th></th>\n",
       "      <th>unique_events</th>\n",
       "      <th>total_orders</th>\n",
       "      <th>event_share</th>\n",
       "      <th>order_share</th>\n",
       "    </tr>\n",
       "    <tr>\n",
       "      <th>region_name</th>\n",
       "      <th></th>\n",
       "      <th></th>\n",
       "      <th></th>\n",
       "      <th></th>\n",
       "    </tr>\n",
       "  </thead>\n",
       "  <tbody>\n",
       "    <tr>\n",
       "      <th>Каменевский регион</th>\n",
       "      <td>3910</td>\n",
       "      <td>30854</td>\n",
       "      <td>0.246284</td>\n",
       "      <td>0.287683</td>\n",
       "    </tr>\n",
       "    <tr>\n",
       "      <th>Североярская область</th>\n",
       "      <td>2613</td>\n",
       "      <td>14561</td>\n",
       "      <td>0.164588</td>\n",
       "      <td>0.135767</td>\n",
       "    </tr>\n",
       "    <tr>\n",
       "      <th>Широковская область</th>\n",
       "      <td>803</td>\n",
       "      <td>5866</td>\n",
       "      <td>0.050579</td>\n",
       "      <td>0.054695</td>\n",
       "    </tr>\n",
       "    <tr>\n",
       "      <th>Светополянский округ</th>\n",
       "      <td>764</td>\n",
       "      <td>3135</td>\n",
       "      <td>0.048123</td>\n",
       "      <td>0.029231</td>\n",
       "    </tr>\n",
       "    <tr>\n",
       "      <th>Речиновская область</th>\n",
       "      <td>529</td>\n",
       "      <td>2397</td>\n",
       "      <td>0.033321</td>\n",
       "      <td>0.022350</td>\n",
       "    </tr>\n",
       "    <tr>\n",
       "      <th>...</th>\n",
       "      <td>...</td>\n",
       "      <td>...</td>\n",
       "      <td>...</td>\n",
       "      <td>...</td>\n",
       "    </tr>\n",
       "    <tr>\n",
       "      <th>Залесский край</th>\n",
       "      <td>4</td>\n",
       "      <td>33</td>\n",
       "      <td>0.000252</td>\n",
       "      <td>0.000308</td>\n",
       "    </tr>\n",
       "    <tr>\n",
       "      <th>Островогорский округ</th>\n",
       "      <td>4</td>\n",
       "      <td>12</td>\n",
       "      <td>0.000252</td>\n",
       "      <td>0.000112</td>\n",
       "    </tr>\n",
       "    <tr>\n",
       "      <th>Верхозёрский край</th>\n",
       "      <td>2</td>\n",
       "      <td>5</td>\n",
       "      <td>0.000126</td>\n",
       "      <td>0.000047</td>\n",
       "    </tr>\n",
       "    <tr>\n",
       "      <th>Светолесский край</th>\n",
       "      <td>2</td>\n",
       "      <td>15</td>\n",
       "      <td>0.000126</td>\n",
       "      <td>0.000140</td>\n",
       "    </tr>\n",
       "    <tr>\n",
       "      <th>Сосноводолинская область</th>\n",
       "      <td>1</td>\n",
       "      <td>6</td>\n",
       "      <td>0.000063</td>\n",
       "      <td>0.000056</td>\n",
       "    </tr>\n",
       "  </tbody>\n",
       "</table>\n",
       "<p>79 rows × 4 columns</p>\n",
       "</div>"
      ],
      "text/plain": [
       "                          unique_events  total_orders  event_share  \\\n",
       "region_name                                                          \n",
       "Каменевский регион                 3910         30854     0.246284   \n",
       "Североярская область               2613         14561     0.164588   \n",
       "Широковская область                 803          5866     0.050579   \n",
       "Светополянский округ                764          3135     0.048123   \n",
       "Речиновская область                 529          2397     0.033321   \n",
       "...                                 ...           ...          ...   \n",
       "Залесский край                        4            33     0.000252   \n",
       "Островогорский округ                  4            12     0.000252   \n",
       "Верхозёрский край                     2             5     0.000126   \n",
       "Светолесский край                     2            15     0.000126   \n",
       "Сосноводолинская область              1             6     0.000063   \n",
       "\n",
       "                          order_share  \n",
       "region_name                            \n",
       "Каменевский регион           0.287683  \n",
       "Североярская область         0.135767  \n",
       "Широковская область          0.054695  \n",
       "Светополянский округ         0.029231  \n",
       "Речиновская область          0.022350  \n",
       "...                               ...  \n",
       "Залесский край               0.000308  \n",
       "Островогорский округ         0.000112  \n",
       "Верхозёрский край            0.000047  \n",
       "Светолесский край            0.000140  \n",
       "Сосноводолинская область     0.000056  \n",
       "\n",
       "[79 rows x 4 columns]"
      ]
     },
     "metadata": {},
     "output_type": "display_data"
    }
   ],
   "source": [
    "\n",
    "regional_data = autumn_data.groupby('region_name').agg(\n",
    "    unique_events=('event_id', 'nunique'),\n",
    "    total_orders=('order_id', 'count'))\n",
    "\n",
    "total_events = regional_data['unique_events'].sum()\n",
    "total_orders = regional_data['total_orders'].sum()\n",
    "\n",
    "regional_data['event_share'] = regional_data['unique_events'] / total_events\n",
    "regional_data['order_share'] = regional_data['total_orders'] / total_orders\n",
    "regional_data = regional_data.sort_values(by='unique_events', ascending=False)\n",
    "\n",
    "display(regional_data)"
   ]
  },
  {
   "cell_type": "code",
   "execution_count": 35,
   "id": "f0e22a5f",
   "metadata": {},
   "outputs": [
    {
     "data": {
      "image/png": "[encoded data removed]",
      "text/plain": [
       "<Figure size 576x432 with 1 Axes>"
      ]
     },
     "metadata": {},
     "output_type": "display_data"
    },
    {
     "data": {
      "image/png": "[encoded data removed]",
      "text/plain": [
       "<Figure size 576x432 with 1 Axes>"
      ]
     },
     "metadata": {},
     "output_type": "display_data"
    }
   ],
   "source": [
    "top_regions = regional_data.nlargest(7, 'unique_events').index\n",
    "\n",
    "\n",
    "regional_data_filtered = regional_data.copy()\n",
    "remaining_indices = ~regional_data.index.isin(top_regions)\n",
    "regional_data_filtered.loc['Прочие'] = regional_data_filtered.loc[remaining_indices].sum(numeric_only=True)\n",
    "regional_data_filtered = regional_data_filtered.reindex(index=list(top_regions) + ['Прочие'])\n",
    "total_events = regional_data_filtered['unique_events'].sum()\n",
    "total_orders = regional_data_filtered['total_orders'].sum()\n",
    "regional_data_filtered['event_share'] = regional_data_filtered['unique_events'] / total_events\n",
    "regional_data_filtered['order_share'] = regional_data_filtered['total_orders'] / total_orders\n",
    "\n",
    "\n",
    "plt.figure(figsize=(8, 6))\n",
    "plt.pie(regional_data_filtered['event_share'], labels=regional_data_filtered.index, autopct='%1.1f%%', colors=sns.color_palette('pastel'))\n",
    "plt.title('Доли мероприятий по регионам')\n",
    "plt.axis('equal')\n",
    "plt.show()\n",
    "\n",
    "plt.figure(figsize=(8, 6))\n",
    "plt.pie(regional_data_filtered['order_share'], labels=regional_data_filtered.index, autopct='%1.1f%%', colors=sns.color_palette('pastel'))\n",
    "plt.title('Доли заказов по регионам')\n",
    "plt.axis('equal')\n",
    "plt.show()\n"
   ]
  },
  {
   "cell_type": "markdown",
   "id": "b7c8a3aa",
   "metadata": {},
   "source": [
    "Каменевский регион лидирует как по количеству мероприятий (3910), так и по количеству заказов (30854).Североярская область занимает второе место, имея значительное количество мероприятий (2613) и заказов (14561). Широковская область и Светополянский округ занимают третье и четвертое место, но их активность значительно уступает первым двум регионам. Для визуализации были выбраны топ-7 регионов по показателям, остальные регионы были распределены в \"Прочие\" (доля их 41.7%). Каменевский регион удерживает лидерство как по объему мероприятий, так и по общему числу заказов. Доля по мероприятий 24.6 % приходится на Каменевский регион и 28.8% по заказам. У Североярской области доля мероприятий 16.5 и 13.6 по заказам. Залесский край, Островогорский округ и Верхозёрский край предлагают минимальные объемы мероприятий и заказов, что подчеркивает разницу в развитии инфраструктуры и заинтересованности жителей в культурной жизни."
   ]
  },
  {
   "cell_type": "code",
   "execution_count": 36,
   "id": "1d9ad3b7",
   "metadata": {},
   "outputs": [
    {
     "data": {
      "text/html": [
       "<div>\n",
       "<style scoped>\n",
       "    .dataframe tbody tr th:only-of-type {\n",
       "        vertical-align: middle;\n",
       "    }\n",
       "\n",
       "    .dataframe tbody tr th {\n",
       "        vertical-align: top;\n",
       "    }\n",
       "\n",
       "    .dataframe thead th {\n",
       "        text-align: right;\n",
       "    }\n",
       "</style>\n",
       "<table border=\"1\" class=\"dataframe\">\n",
       "  <thead>\n",
       "    <tr style=\"text-align: right;\">\n",
       "      <th></th>\n",
       "      <th>unique_events</th>\n",
       "      <th>total_orders</th>\n",
       "      <th>total_revenue</th>\n",
       "      <th>event_share</th>\n",
       "      <th>order_share</th>\n",
       "      <th>revenue_share</th>\n",
       "    </tr>\n",
       "    <tr>\n",
       "      <th>cinema_circuit</th>\n",
       "      <th></th>\n",
       "      <th></th>\n",
       "      <th></th>\n",
       "      <th></th>\n",
       "      <th></th>\n",
       "      <th></th>\n",
       "    </tr>\n",
       "  </thead>\n",
       "  <tbody>\n",
       "    <tr>\n",
       "      <th>нет</th>\n",
       "      <td>15826</td>\n",
       "      <td>106656</td>\n",
       "      <td>5.451500e+07</td>\n",
       "      <td>0.993097</td>\n",
       "      <td>0.994462</td>\n",
       "      <td>0.992664</td>\n",
       "    </tr>\n",
       "    <tr>\n",
       "      <th>Другое</th>\n",
       "      <td>104</td>\n",
       "      <td>527</td>\n",
       "      <td>3.762711e+05</td>\n",
       "      <td>0.006526</td>\n",
       "      <td>0.004914</td>\n",
       "      <td>0.006852</td>\n",
       "    </tr>\n",
       "    <tr>\n",
       "      <th>КиноСити</th>\n",
       "      <td>2</td>\n",
       "      <td>63</td>\n",
       "      <td>2.322364e+04</td>\n",
       "      <td>0.000126</td>\n",
       "      <td>0.000587</td>\n",
       "      <td>0.000423</td>\n",
       "    </tr>\n",
       "    <tr>\n",
       "      <th>Москино</th>\n",
       "      <td>3</td>\n",
       "      <td>3</td>\n",
       "      <td>3.007540e+03</td>\n",
       "      <td>0.000188</td>\n",
       "      <td>0.000028</td>\n",
       "      <td>0.000055</td>\n",
       "    </tr>\n",
       "    <tr>\n",
       "      <th>Киномакс</th>\n",
       "      <td>1</td>\n",
       "      <td>1</td>\n",
       "      <td>3.895400e+02</td>\n",
       "      <td>0.000063</td>\n",
       "      <td>0.000009</td>\n",
       "      <td>0.000007</td>\n",
       "    </tr>\n",
       "  </tbody>\n",
       "</table>\n",
       "</div>"
      ],
      "text/plain": [
       "                unique_events  total_orders  total_revenue  event_share  \\\n",
       "cinema_circuit                                                            \n",
       "нет                     15826        106656   5.451500e+07     0.993097   \n",
       "Другое                    104           527   3.762711e+05     0.006526   \n",
       "КиноСити                    2            63   2.322364e+04     0.000126   \n",
       "Москино                     3             3   3.007540e+03     0.000188   \n",
       "Киномакс                    1             1   3.895400e+02     0.000063   \n",
       "\n",
       "                order_share  revenue_share  \n",
       "cinema_circuit                              \n",
       "нет                0.994462       0.992664  \n",
       "Другое             0.004914       0.006852  \n",
       "КиноСити           0.000587       0.000423  \n",
       "Москино            0.000028       0.000055  \n",
       "Киномакс           0.000009       0.000007  "
      ]
     },
     "metadata": {},
     "output_type": "display_data"
    }
   ],
   "source": [
    "partner_data = autumn_data.groupby('cinema_circuit').agg(\n",
    "    unique_events=('event_id', 'nunique'),\n",
    "    total_orders=('order_id', 'count'),\n",
    "    total_revenue=('revenue_rub', 'sum'))\n",
    "\n",
    "total_events = partner_data['unique_events'].sum()\n",
    "total_orders = partner_data['total_orders'].sum()\n",
    "total_revenue = partner_data['total_revenue'].sum()\n",
    "\n",
    "partner_data['event_share'] = partner_data['unique_events'] / total_events\n",
    "partner_data['order_share'] = partner_data['total_orders'] / total_orders\n",
    "partner_data['revenue_share'] = partner_data['total_revenue'] / total_revenue\n",
    "\n",
    "partner_data = partner_data.sort_values(by='total_revenue', ascending=False)\n",
    "display(partner_data)"
   ]
  },
  {
   "cell_type": "markdown",
   "id": "945874b6",
   "metadata": {},
   "source": [
    "Группа \"нет\"- лидирует по количеству мероприятий (15826), количеству заказов (106656) и общей выручке (54 млн рублей).\n",
    "Занимает доминирующее положение на рынке, контролируя более 99% общего числа мероприятий и заказов. Второе место занимает \"Другое\" - 104 мероприятия и 527 заказов, скромная доля рынка (менее 1%). КиноСити, Москино, Киномакс имеют крайне низкую активность( всего несколько мероприятий и заказов)."
   ]
  },
  {
   "cell_type": "markdown",
   "id": "d1ed0e55",
   "metadata": {},
   "source": [
    "### 5. Статистический анализ данных\n",
    "\n",
    "Коллеги из продуктового отдела хотят отдельно проверить несколько гипотез относительно активности пользователей мобильных и стационарных устройств. Проверьте две гипотезы, которые предполагают большую активность пользователей мобильных устройств:\n",
    "- **Среднее количество заказов** на одного пользователя мобильного приложения выше по сравнению с пользователями стационарных устройств.\n",
    "- **Среднее время между заказами** пользователей мобильных приложений выше по сравнению с пользователями стационарных устройств.\n",
    "Перед проведением гипотез изучите сравниваемые данные, обоснуйте выбор статистического теста, укажите формулировку нулевой и альтернативной гипотез. \n",
    "\n",
    "Результаты тестов прокомментируйте в промежуточном выводе. \n",
    "\n",
    "Используйте данные только за осенний период"
   ]
  },
  {
   "cell_type": "markdown",
   "id": "07500f09",
   "metadata": {},
   "source": [
    "Формулировка гипотезы 1:\n",
    "- H₀ (нулевая гипотеза): среднее количество заказов на одного пользователя одинаково для мобильных и стационарных устройств.\n",
    "- H₁ (альтернативная гипотеза): среднее количество заказов на одного пользователя мобильного приложения выше по сравнению с пользователями стационарных устройств.\n"
   ]
  },
  {
   "cell_type": "code",
   "execution_count": 37,
   "id": "15a459ff",
   "metadata": {},
   "outputs": [
    {
     "data": {
      "text/plain": [
       "'Статистика теста: 36035148.5, p-value: 1.6566614302695267e-13'"
      ]
     },
     "metadata": {},
     "output_type": "display_data"
    },
    {
     "data": {
      "text/plain": [
       "'Гипотеза H₁ принимается: среднее количество заказов на пользователя мобильного устройства выше'"
      ]
     },
     "metadata": {},
     "output_type": "display_data"
    }
   ],
   "source": [
    "orders_per_user_mobile = autumn_data.query(\"device_type_canonical == 'mobile'\").groupby('user_id')['order_id'].count()\n",
    "orders_per_user_desktop = autumn_data.query(\"device_type_canonical == 'desktop'\").groupby('user_id')['order_id'].count()\n",
    "\n",
    "statistic, p_value = mannwhitneyu(orders_per_user_mobile, orders_per_user_desktop, alternative='greater')\n",
    "display(f\"Статистика теста: {statistic}, p-value: {p_value:}\")\n",
    "\n",
    "alpha = 0.05\n",
    "if p_value < alpha:\n",
    "    display(\"Гипотеза H₁ принимается: среднее количество заказов на пользователя мобильного устройства выше\")\n",
    "else:\n",
    "    display(\"Гипотеза H₀ принимается: разницы в среднем числе заказов нет\")"
   ]
  },
  {
   "cell_type": "markdown",
   "id": "918c11f1",
   "metadata": {},
   "source": [
    "Используется непараметрический критерий Манна-Уитни (выбор основан на отсутствии уверенности в нормальности распределения данных). Так как полученный p-value значительно меньше выбранного уровня значимости a=0.05, мы отвергаем нулевую гипотезу и принимаем альтернативную гипотезу: среднее количество заказов на одного пользователя мобильного приложения выше по сравнению с пользователями стационарных устройств. "
   ]
  },
  {
   "cell_type": "markdown",
   "id": "5d8712b6",
   "metadata": {},
   "source": [
    "Формулировка гипотезы 2:\n",
    "- H₀ (нулевая гипотеза): среднее время между заказами одинаково для мобильных и стационарных устройств.\n",
    "- H₁ (альтернативная гипотеза): среднее время между заказами пользователей мобильных приложений выше по сравнению с пользователями стационарных устройств."
   ]
  },
  {
   "cell_type": "code",
   "execution_count": 38,
   "id": "63765578",
   "metadata": {},
   "outputs": [
    {
     "data": {
      "text/plain": [
       "'Статистика теста: 638212354.5, p-value: 0.1978171028271114'"
      ]
     },
     "metadata": {},
     "output_type": "display_data"
    },
    {
     "data": {
      "text/plain": [
       "'Гипотеза H₀ принимается: разницы во времени между заказами нет'"
      ]
     },
     "metadata": {},
     "output_type": "display_data"
    }
   ],
   "source": [
    "autumn_data['prev_order_time'] = autumn_data.groupby('user_id')['created_dt_msk'].shift(-1)\n",
    "autumn_data['time_between_orders'] = (autumn_data['prev_order_time'] - autumn_data['created_dt_msk']).dt.total_seconds() / 3600 \n",
    "\n",
    "time_between_orders_mobile = autumn_data.query(\"device_type_canonical == 'mobile' & time_between_orders.notna()\")['time_between_orders']\n",
    "time_between_orders_desktop = autumn_data.query(\"device_type_canonical == 'desktop' & time_between_orders.notna()\")['time_between_orders']\n",
    "\n",
    "statistic, p_value = mannwhitneyu(time_between_orders_mobile, time_between_orders_desktop, alternative='greater')\n",
    "display(f\"Статистика теста: {statistic}, p-value: {p_value:}\")\n",
    "\n",
    "alpha = 0.05\n",
    "if p_value < alpha:\n",
    "    display(\"Гипотеза H₁ принимается: среднее время между заказами у мобильных пользователей выше\")\n",
    "else:\n",
    "    display(\"Гипотеза H₀ принимается: разницы во времени между заказами нет\")"
   ]
  },
  {
   "cell_type": "markdown",
   "id": "4b06e4e4",
   "metadata": {},
   "source": [
    "Поскольку данные могут быть ненормально распределёнными и мы имеем две независимые выборки (пользователи мобильных и стационарных устройств), правильным выбором будет непараметрический тест Манна-Уитни. p-value: 0.1978 говорит о том, что вероятность случайного совпадения наблюдаемых данных с нулевой гипотезой достаточно велика (больше принятой границы в 0.05). Гипотеза H₀ принимается: среднее время между заказами одинаково для мобильных и стационарных устройств."
   ]
  },
  {
   "cell_type": "markdown",
   "id": "3d40fa3e",
   "metadata": {},
   "source": [
    "### 6. Общий вывод и рекомендации\n",
    "В конце проекта напишите общий вывод и рекомендации — на что обратить внимание. В выводах коротко укажите:\n",
    "- **Информацию о данных**, с которыми вы работали.\n",
    "- **Основные результаты анализа:** какие мероприятия наиболее востребованы, как изменилась популярность мероприятий осенью, как изменилась стоимость среднего чека. Какую информацию можно получить после изучения пользовательской активности? Существуют ли среди регионов и партнёров явные лидеры по числу заказов и выручке с продажи билетов? Дополните вывод другой информацией, которая покажется вам важной и интересной. Следите за общим объёмом выводов — они должны быть компактными и ёмкими.\n",
    "- Прокомментируйте **результаты проверки гипотез.**\n",
    "\n",
    "В конце предложите рекомендации, на что стоит обратить внимание в первую очередь."
   ]
  },
  {
   "cell_type": "markdown",
   "id": "ec28217b",
   "metadata": {},
   "source": [
    "- Была проведена работа с датасетом, в котором хранилась информация обо всех заказах билетов, совершённых с двух типов устройств — мобильных и стационарных, с датасетом, который содержал иформацию о событиях, включая город и регион события, а также информацию о площадке проведения мероприятия и с датасетом с информацией о курсе тенге к российскому рублю за 2024 год. Данные были предобработаны и подготовлены к исследованию.\n",
    "- Работа проводилась с данными о продаже билетов за осенний период 2024 года (сентябрь-октябрь). Были использованы агрегированные данные по регионам, билетным партнёрам, типам мероприятий и типам устройств (мобильные и стационарные). Самые популярные виды мероприятий осенью - концерты и театр. Летом популярность концертов была выше, осенью же возросло количество театральных представлений. Средняя стоимость билетов слегка уменьшилась осенью по большинству категорий, за исключением спорта и стендапа, где наблюдался небольшой рост. Наибольшая активность пользователей наблюдается во вторник и четверг. Каменевский регион и группа \"нет\" доминировали как по количеству мероприятий, так и по числу заказов и выручке. Другие регионы показали значительно меньшую активность. С наступлением осени количество заказов выросло, но средняя стоимость билетов снизилась. Это явление можно объяснить несколькими причинами: осенью увеличивается активность пользователей, возвращающихся после летнего отдыха, осенью так же компании часто вводят сезонные акции и скидки, чтобы увеличить продажи.\n",
    "-  Принята гипотеза (1) H₁: пользователи мобильных устройств совершают больше заказов на одного пользователя, чем пользователи стационарных устройств. Принята гипотеза (2) H₀: нет существенных различий во времени между заказами у мобильных и стационарных пользователей.\n",
    "\n",
    "Пользователи мобильных устройств демонстрируют повышенную активность, поэтому внедрение персональных рекомендаций и уведомлений поможет увеличить количество заказов. Необходимо сосредоточиться на привлечении посетителей театров, где отмечено сокращение среднего чека. Мелкие регионы нуждаются в поддержке, следует запустить пилотные проекты для привлечения аудитории и наращивания активности. Наблюдается положительная тенденция возврата пользователей после летнего затишья, что подтверждает перспективность усиления активности осенью.\n"
   ]
  },
  {
   "cell_type": "code",
   "execution_count": null,
   "id": "82f86885",
   "metadata": {},
   "outputs": [],
   "source": []
  }
 ],
 "metadata": {
  "ExecuteTimeLog": [
   {
    "duration": 52,
    "start_time": "2025-08-19T11:51:28.590Z"
   },
   {
    "duration": 416,
    "start_time": "2025-08-19T11:51:31.186Z"
   },
   {
    "duration": 89,
    "start_time": "2025-08-19T11:51:32.393Z"
   },
   {
    "duration": 1962,
    "start_time": "2025-08-19T11:52:48.421Z"
   },
   {
    "duration": 2,
    "start_time": "2025-08-19T11:54:37.765Z"
   },
   {
    "duration": 1493,
    "start_time": "2025-08-19T11:54:40.180Z"
   },
   {
    "duration": 274,
    "start_time": "2025-08-19T11:54:53.940Z"
   },
   {
    "duration": 40,
    "start_time": "2025-08-19T11:54:57.932Z"
   },
   {
    "duration": 96,
    "start_time": "2025-08-19T12:24:40.071Z"
   },
   {
    "duration": 96,
    "start_time": "2025-08-19T12:25:01.815Z"
   },
   {
    "duration": 96,
    "start_time": "2025-08-19T12:25:47.368Z"
   },
   {
    "duration": 97,
    "start_time": "2025-08-19T12:27:00.089Z"
   },
   {
    "duration": 15,
    "start_time": "2025-08-19T12:27:02.352Z"
   },
   {
    "duration": 475,
    "start_time": "2025-08-19T12:28:49.808Z"
   },
   {
    "duration": 229,
    "start_time": "2025-08-19T12:29:26.530Z"
   },
   {
    "duration": 240,
    "start_time": "2025-08-19T12:29:57.346Z"
   },
   {
    "duration": 237,
    "start_time": "2025-08-19T12:30:06.097Z"
   },
   {
    "duration": 30,
    "start_time": "2025-08-19T12:31:19.451Z"
   },
   {
    "duration": 16,
    "start_time": "2025-08-19T12:31:30.402Z"
   },
   {
    "duration": 21,
    "start_time": "2025-08-19T12:31:32.186Z"
   },
   {
    "duration": 1269,
    "start_time": "2025-08-19T12:32:22.368Z"
   },
   {
    "duration": 350,
    "start_time": "2025-08-19T12:32:30.993Z"
   },
   {
    "duration": 277,
    "start_time": "2025-08-19T12:33:37.754Z"
   },
   {
    "duration": 11,
    "start_time": "2025-08-19T12:33:41.426Z"
   },
   {
    "duration": 33,
    "start_time": "2025-08-19T12:34:28.915Z"
   },
   {
    "duration": 35,
    "start_time": "2025-08-19T12:34:44.093Z"
   },
   {
    "duration": 232,
    "start_time": "2025-08-19T12:35:51.252Z"
   },
   {
    "duration": 280,
    "start_time": "2025-08-19T12:36:02.518Z"
   },
   {
    "duration": 220,
    "start_time": "2025-08-19T12:36:09.864Z"
   },
   {
    "duration": 367,
    "start_time": "2025-08-19T12:36:16.534Z"
   },
   {
    "duration": 369,
    "start_time": "2025-08-19T12:39:45.124Z"
   },
   {
    "duration": 150,
    "start_time": "2025-08-19T12:39:48.004Z"
   },
   {
    "duration": 70,
    "start_time": "2025-08-19T12:40:07.565Z"
   },
   {
    "duration": 379,
    "start_time": "2025-08-19T12:40:40.829Z"
   },
   {
    "duration": 24,
    "start_time": "2025-08-19T12:42:28.229Z"
   },
   {
    "duration": 362,
    "start_time": "2025-08-19T12:43:32.575Z"
   },
   {
    "duration": 727,
    "start_time": "2025-08-19T12:45:12.375Z"
   },
   {
    "duration": 384,
    "start_time": "2025-08-19T12:45:15.608Z"
   },
   {
    "duration": 7634,
    "start_time": "2025-08-19T12:45:57.338Z"
   },
   {
    "duration": 595,
    "start_time": "2025-08-19T12:46:04.975Z"
   },
   {
    "duration": 220,
    "start_time": "2025-08-19T12:46:05.572Z"
   },
   {
    "duration": 144,
    "start_time": "2025-08-19T12:47:15.991Z"
   },
   {
    "duration": 138,
    "start_time": "2025-08-19T12:47:49.951Z"
   },
   {
    "duration": 137,
    "start_time": "2025-08-19T12:50:24.560Z"
   },
   {
    "duration": 94,
    "start_time": "2025-08-19T12:53:34.386Z"
   },
   {
    "duration": 113,
    "start_time": "2025-08-19T12:53:37.228Z"
   },
   {
    "duration": 102,
    "start_time": "2025-08-19T12:54:12.475Z"
   },
   {
    "duration": 106,
    "start_time": "2025-08-19T12:54:23.412Z"
   },
   {
    "duration": 190,
    "start_time": "2025-08-19T12:54:45.620Z"
   },
   {
    "duration": 113,
    "start_time": "2025-08-19T12:54:50.916Z"
   },
   {
    "duration": 125,
    "start_time": "2025-08-19T12:54:52.883Z"
   },
   {
    "duration": 27,
    "start_time": "2025-08-19T12:57:03.523Z"
   },
   {
    "duration": 107,
    "start_time": "2025-08-19T12:57:06.226Z"
   },
   {
    "duration": 154,
    "start_time": "2025-08-19T12:57:08.068Z"
   },
   {
    "duration": 26,
    "start_time": "2025-08-19T12:57:13.939Z"
   },
   {
    "duration": 138,
    "start_time": "2025-08-19T12:57:20.867Z"
   },
   {
    "duration": 106,
    "start_time": "2025-08-19T12:57:23.460Z"
   },
   {
    "duration": 124,
    "start_time": "2025-08-19T12:57:25.587Z"
   },
   {
    "duration": 45,
    "start_time": "2025-08-19T12:58:12.843Z"
   },
   {
    "duration": 102,
    "start_time": "2025-08-19T12:58:14.899Z"
   },
   {
    "duration": 207,
    "start_time": "2025-08-19T12:58:16.429Z"
   },
   {
    "duration": 139,
    "start_time": "2025-08-19T12:58:28.843Z"
   },
   {
    "duration": 46,
    "start_time": "2025-08-19T13:03:13.469Z"
   },
   {
    "duration": 3550,
    "start_time": "2025-08-19T13:05:30.773Z"
   },
   {
    "duration": 53,
    "start_time": "2025-08-19T13:06:03.686Z"
   },
   {
    "duration": 925,
    "start_time": "2025-08-19T13:06:47.207Z"
   },
   {
    "duration": 13,
    "start_time": "2025-08-19T13:08:10.232Z"
   },
   {
    "duration": 13,
    "start_time": "2025-08-19T13:08:18.527Z"
   },
   {
    "duration": 3883,
    "start_time": "2025-08-19T13:08:27.058Z"
   },
   {
    "duration": 5672,
    "start_time": "2025-08-19T13:08:50.791Z"
   },
   {
    "duration": 130,
    "start_time": "2025-08-19T13:13:35.912Z"
   },
   {
    "duration": 5625,
    "start_time": "2025-08-19T13:14:06.041Z"
   },
   {
    "duration": 4,
    "start_time": "2025-08-19T13:14:54.609Z"
   },
   {
    "duration": 23,
    "start_time": "2025-08-19T13:15:14.033Z"
   },
   {
    "duration": 4,
    "start_time": "2025-08-19T13:15:16.609Z"
   },
   {
    "duration": 21,
    "start_time": "2025-08-19T13:15:18.321Z"
   },
   {
    "duration": 55,
    "start_time": "2025-08-19T13:15:49.442Z"
   },
   {
    "duration": 21,
    "start_time": "2025-08-19T13:15:52.817Z"
   },
   {
    "duration": 145,
    "start_time": "2025-08-19T13:16:00.729Z"
   },
   {
    "duration": 27,
    "start_time": "2025-08-19T13:16:28.890Z"
   },
   {
    "duration": 5528,
    "start_time": "2025-08-19T13:16:30.970Z"
   },
   {
    "duration": 350,
    "start_time": "2025-08-19T13:17:45.922Z"
   },
   {
    "duration": 93,
    "start_time": "2025-08-19T13:18:49.770Z"
   },
   {
    "duration": 6,
    "start_time": "2025-08-19T13:18:55.115Z"
   },
   {
    "duration": 6,
    "start_time": "2025-08-19T13:18:57.714Z"
   },
   {
    "duration": 121,
    "start_time": "2025-08-19T13:19:00.835Z"
   },
   {
    "duration": 101,
    "start_time": "2025-08-19T13:19:55.443Z"
   },
   {
    "duration": 123,
    "start_time": "2025-08-19T13:20:59.615Z"
   },
   {
    "duration": 4444,
    "start_time": "2025-08-19T13:22:13.211Z"
   },
   {
    "duration": 406,
    "start_time": "2025-08-19T13:22:17.657Z"
   },
   {
    "duration": 424,
    "start_time": "2025-08-19T13:22:20.976Z"
   },
   {
    "duration": 0,
    "start_time": "2025-08-19T13:23:13.343Z"
   },
   {
    "duration": 434,
    "start_time": "2025-08-19T13:23:15.072Z"
   },
   {
    "duration": 5682,
    "start_time": "2025-08-19T13:23:53.067Z"
   },
   {
    "duration": 5912,
    "start_time": "2025-08-19T13:24:12.853Z"
   },
   {
    "duration": 0,
    "start_time": "2025-08-19T13:24:18.767Z"
   },
   {
    "duration": 23,
    "start_time": "2025-08-19T13:24:18.796Z"
   },
   {
    "duration": 5323,
    "start_time": "2025-08-19T13:25:07.709Z"
   },
   {
    "duration": 4,
    "start_time": "2025-08-19T13:25:14.413Z"
   },
   {
    "duration": 21,
    "start_time": "2025-08-19T13:25:16.677Z"
   },
   {
    "duration": 11,
    "start_time": "2025-08-19T13:25:18.413Z"
   },
   {
    "duration": 26,
    "start_time": "2025-08-19T13:25:20.788Z"
   },
   {
    "duration": 136,
    "start_time": "2025-08-19T13:58:43.553Z"
   },
   {
    "duration": 10,
    "start_time": "2025-08-19T14:36:46.326Z"
   },
   {
    "duration": 1355,
    "start_time": "2025-08-19T14:37:01.326Z"
   },
   {
    "duration": 1628,
    "start_time": "2025-08-19T14:37:02.683Z"
   },
   {
    "duration": 297,
    "start_time": "2025-08-19T14:37:04.313Z"
   },
   {
    "duration": 84,
    "start_time": "2025-08-19T14:37:04.611Z"
   },
   {
    "duration": 445,
    "start_time": "2025-08-19T14:37:04.697Z"
   },
   {
    "duration": 238,
    "start_time": "2025-08-19T14:37:05.144Z"
   },
   {
    "duration": 117,
    "start_time": "2025-08-19T14:37:05.384Z"
   },
   {
    "duration": 0,
    "start_time": "2025-08-19T14:37:05.503Z"
   },
   {
    "duration": 0,
    "start_time": "2025-08-19T14:37:05.504Z"
   },
   {
    "duration": 0,
    "start_time": "2025-08-19T14:37:05.505Z"
   },
   {
    "duration": 0,
    "start_time": "2025-08-19T14:37:05.506Z"
   },
   {
    "duration": 0,
    "start_time": "2025-08-19T14:37:05.507Z"
   },
   {
    "duration": 1,
    "start_time": "2025-08-19T14:37:05.508Z"
   },
   {
    "duration": 0,
    "start_time": "2025-08-19T14:37:05.509Z"
   },
   {
    "duration": 0,
    "start_time": "2025-08-19T14:37:05.511Z"
   },
   {
    "duration": 0,
    "start_time": "2025-08-19T14:37:05.511Z"
   },
   {
    "duration": 0,
    "start_time": "2025-08-19T14:37:05.513Z"
   },
   {
    "duration": 0,
    "start_time": "2025-08-19T14:37:05.514Z"
   },
   {
    "duration": 0,
    "start_time": "2025-08-19T14:37:05.515Z"
   },
   {
    "duration": 0,
    "start_time": "2025-08-19T14:37:05.516Z"
   },
   {
    "duration": 0,
    "start_time": "2025-08-19T14:37:05.517Z"
   },
   {
    "duration": 0,
    "start_time": "2025-08-19T14:37:05.518Z"
   },
   {
    "duration": 0,
    "start_time": "2025-08-19T14:37:05.519Z"
   },
   {
    "duration": 9,
    "start_time": "2025-08-19T14:37:49.862Z"
   },
   {
    "duration": 5,
    "start_time": "2025-08-19T14:39:30.455Z"
   },
   {
    "duration": 4,
    "start_time": "2025-08-19T14:39:33.318Z"
   },
   {
    "duration": 34,
    "start_time": "2025-08-19T14:39:34.607Z"
   },
   {
    "duration": 21,
    "start_time": "2025-08-19T14:39:38.206Z"
   },
   {
    "duration": 15,
    "start_time": "2025-08-19T14:39:40.070Z"
   },
   {
    "duration": 1318,
    "start_time": "2025-08-19T14:39:42.955Z"
   },
   {
    "duration": 1587,
    "start_time": "2025-08-19T14:39:44.275Z"
   },
   {
    "duration": 412,
    "start_time": "2025-08-19T14:39:45.864Z"
   },
   {
    "duration": 41,
    "start_time": "2025-08-19T14:39:46.278Z"
   },
   {
    "duration": 471,
    "start_time": "2025-08-19T14:39:46.323Z"
   },
   {
    "duration": 244,
    "start_time": "2025-08-19T14:39:46.796Z"
   },
   {
    "duration": 13,
    "start_time": "2025-08-19T14:39:47.042Z"
   },
   {
    "duration": 124,
    "start_time": "2025-08-19T14:39:47.056Z"
   },
   {
    "duration": 21,
    "start_time": "2025-08-19T14:39:47.182Z"
   },
   {
    "duration": 15,
    "start_time": "2025-08-19T14:39:47.205Z"
   },
   {
    "duration": 298,
    "start_time": "2025-08-19T14:39:47.222Z"
   },
   {
    "duration": 222,
    "start_time": "2025-08-19T14:39:47.522Z"
   },
   {
    "duration": 483,
    "start_time": "2025-08-19T14:39:47.755Z"
   },
   {
    "duration": 659,
    "start_time": "2025-08-19T14:39:48.241Z"
   },
   {
    "duration": 144,
    "start_time": "2025-08-19T14:39:48.902Z"
   },
   {
    "duration": 270,
    "start_time": "2025-08-19T14:39:49.055Z"
   },
   {
    "duration": 210,
    "start_time": "2025-08-19T14:39:49.327Z"
   },
   {
    "duration": 50,
    "start_time": "2025-08-19T14:39:49.539Z"
   },
   {
    "duration": 5319,
    "start_time": "2025-08-19T14:39:49.591Z"
   },
   {
    "duration": 5,
    "start_time": "2025-08-19T14:39:54.913Z"
   },
   {
    "duration": 229,
    "start_time": "2025-08-19T14:39:54.920Z"
   },
   {
    "duration": 42,
    "start_time": "2025-08-19T14:39:55.151Z"
   },
   {
    "duration": 164,
    "start_time": "2025-08-19T14:39:55.195Z"
   },
   {
    "duration": 148,
    "start_time": "2025-08-19T14:41:15.209Z"
   },
   {
    "duration": 152,
    "start_time": "2025-08-19T14:41:24.851Z"
   },
   {
    "duration": 363,
    "start_time": "2025-08-19T14:42:57.076Z"
   },
   {
    "duration": 287,
    "start_time": "2025-08-19T14:43:52.137Z"
   },
   {
    "duration": 212,
    "start_time": "2025-08-19T14:44:32.052Z"
   },
   {
    "duration": 81,
    "start_time": "2025-08-19T14:47:55.126Z"
   },
   {
    "duration": 287,
    "start_time": "2025-08-19T14:48:49.273Z"
   },
   {
    "duration": 219,
    "start_time": "2025-08-19T14:51:33.847Z"
   },
   {
    "duration": 221,
    "start_time": "2025-08-19T14:53:17.736Z"
   },
   {
    "duration": 306,
    "start_time": "2025-08-19T14:56:04.961Z"
   },
   {
    "duration": 28,
    "start_time": "2025-08-19T15:18:17.504Z"
   },
   {
    "duration": 137,
    "start_time": "2025-08-19T15:20:08.066Z"
   },
   {
    "duration": 58,
    "start_time": "2025-08-19T15:20:23.545Z"
   },
   {
    "duration": 52,
    "start_time": "2025-08-19T15:20:31.322Z"
   },
   {
    "duration": 1286,
    "start_time": "2025-08-19T15:21:08.627Z"
   },
   {
    "duration": 48,
    "start_time": "2025-08-19T15:21:54.538Z"
   },
   {
    "duration": 52,
    "start_time": "2025-08-19T15:22:01.336Z"
   },
   {
    "duration": 52,
    "start_time": "2025-08-19T15:22:12.795Z"
   },
   {
    "duration": 51,
    "start_time": "2025-08-19T15:22:37.541Z"
   },
   {
    "duration": 471,
    "start_time": "2025-08-19T15:22:57.987Z"
   },
   {
    "duration": 102,
    "start_time": "2025-08-19T16:14:42.023Z"
   },
   {
    "duration": 34,
    "start_time": "2025-08-19T16:14:48.312Z"
   },
   {
    "duration": 39,
    "start_time": "2025-08-19T16:14:55.598Z"
   },
   {
    "duration": 38,
    "start_time": "2025-08-19T16:15:32.102Z"
   },
   {
    "duration": 32,
    "start_time": "2025-08-19T16:15:52.285Z"
   },
   {
    "duration": 57,
    "start_time": "2025-08-19T16:19:00.152Z"
   },
   {
    "duration": 34,
    "start_time": "2025-08-19T16:23:03.817Z"
   },
   {
    "duration": 44,
    "start_time": "2025-08-19T16:23:10.561Z"
   },
   {
    "duration": 57,
    "start_time": "2025-08-19T16:23:50.809Z"
   },
   {
    "duration": 160,
    "start_time": "2025-08-19T16:35:36.476Z"
   },
   {
    "duration": 2,
    "start_time": "2025-08-19T16:35:49.879Z"
   },
   {
    "duration": 109,
    "start_time": "2025-08-19T16:37:57.629Z"
   },
   {
    "duration": 108,
    "start_time": "2025-08-19T16:38:11.397Z"
   },
   {
    "duration": 109,
    "start_time": "2025-08-19T16:40:36.101Z"
   },
   {
    "duration": 14,
    "start_time": "2025-08-19T16:43:06.623Z"
   },
   {
    "duration": 96,
    "start_time": "2025-08-19T16:43:56.792Z"
   },
   {
    "duration": 3,
    "start_time": "2025-08-19T16:44:24.544Z"
   },
   {
    "duration": 96,
    "start_time": "2025-08-19T16:44:30.627Z"
   },
   {
    "duration": 115,
    "start_time": "2025-08-19T17:00:50.830Z"
   },
   {
    "duration": 84,
    "start_time": "2025-08-19T17:01:12.671Z"
   },
   {
    "duration": 367,
    "start_time": "2025-08-19T17:01:52.343Z"
   },
   {
    "duration": 83,
    "start_time": "2025-08-19T17:02:10.507Z"
   },
   {
    "duration": 103,
    "start_time": "2025-08-19T17:02:31.335Z"
   },
   {
    "duration": 87,
    "start_time": "2025-08-19T17:02:44.215Z"
   },
   {
    "duration": 104,
    "start_time": "2025-08-19T17:03:21.082Z"
   },
   {
    "duration": 84,
    "start_time": "2025-08-19T17:03:24.201Z"
   },
   {
    "duration": 122,
    "start_time": "2025-08-19T17:03:26.775Z"
   },
   {
    "duration": 226,
    "start_time": "2025-08-19T17:03:29.287Z"
   },
   {
    "duration": 107,
    "start_time": "2025-08-19T17:03:42.624Z"
   },
   {
    "duration": 144,
    "start_time": "2025-08-19T17:03:52.143Z"
   },
   {
    "duration": 139,
    "start_time": "2025-08-19T17:04:17.935Z"
   },
   {
    "duration": 135,
    "start_time": "2025-08-19T17:04:26.106Z"
   },
   {
    "duration": 1320,
    "start_time": "2025-08-19T18:13:50.185Z"
   },
   {
    "duration": 1786,
    "start_time": "2025-08-19T18:13:51.507Z"
   },
   {
    "duration": 356,
    "start_time": "2025-08-19T18:13:53.294Z"
   },
   {
    "duration": 81,
    "start_time": "2025-08-19T18:13:53.652Z"
   },
   {
    "duration": 467,
    "start_time": "2025-08-19T18:13:53.735Z"
   },
   {
    "duration": 235,
    "start_time": "2025-08-19T18:13:54.204Z"
   },
   {
    "duration": 13,
    "start_time": "2025-08-19T18:13:54.441Z"
   },
   {
    "duration": 36,
    "start_time": "2025-08-19T18:13:54.456Z"
   },
   {
    "duration": 22,
    "start_time": "2025-08-19T18:13:54.493Z"
   },
   {
    "duration": 41,
    "start_time": "2025-08-19T18:13:54.517Z"
   },
   {
    "duration": 304,
    "start_time": "2025-08-19T18:13:54.560Z"
   },
   {
    "duration": 224,
    "start_time": "2025-08-19T18:13:54.866Z"
   },
   {
    "duration": 529,
    "start_time": "2025-08-19T18:13:55.093Z"
   },
   {
    "duration": 669,
    "start_time": "2025-08-19T18:13:55.626Z"
   },
   {
    "duration": 176,
    "start_time": "2025-08-19T18:13:56.297Z"
   },
   {
    "duration": 283,
    "start_time": "2025-08-19T18:13:56.475Z"
   },
   {
    "duration": 208,
    "start_time": "2025-08-19T18:13:56.760Z"
   },
   {
    "duration": 48,
    "start_time": "2025-08-19T18:13:56.969Z"
   },
   {
    "duration": 5495,
    "start_time": "2025-08-19T18:13:57.019Z"
   },
   {
    "duration": 5,
    "start_time": "2025-08-19T18:14:02.516Z"
   },
   {
    "duration": 82,
    "start_time": "2025-08-19T18:14:02.522Z"
   },
   {
    "duration": 11,
    "start_time": "2025-08-19T18:14:02.605Z"
   },
   {
    "duration": 211,
    "start_time": "2025-08-19T18:14:02.618Z"
   },
   {
    "duration": 31,
    "start_time": "2025-08-19T18:14:02.831Z"
   },
   {
    "duration": 220,
    "start_time": "2025-08-19T18:14:02.863Z"
   },
   {
    "duration": 372,
    "start_time": "2025-08-19T18:14:03.085Z"
   },
   {
    "duration": 226,
    "start_time": "2025-08-19T18:14:03.459Z"
   },
   {
    "duration": 221,
    "start_time": "2025-08-19T18:14:03.687Z"
   },
   {
    "duration": 325,
    "start_time": "2025-08-19T18:14:03.910Z"
   },
   {
    "duration": 144,
    "start_time": "2025-08-19T18:14:04.236Z"
   },
   {
    "duration": 74,
    "start_time": "2025-08-19T18:14:04.382Z"
   },
   {
    "duration": 1204,
    "start_time": "2025-08-19T18:14:04.458Z"
   },
   {
    "duration": 50,
    "start_time": "2025-08-19T18:14:05.664Z"
   },
   {
    "duration": 484,
    "start_time": "2025-08-19T18:14:05.715Z"
   },
   {
    "duration": 38,
    "start_time": "2025-08-19T18:14:06.201Z"
   },
   {
    "duration": 48,
    "start_time": "2025-08-19T18:14:06.240Z"
   },
   {
    "duration": 201,
    "start_time": "2025-08-19T18:14:06.289Z"
   },
   {
    "duration": 150,
    "start_time": "2025-08-19T18:14:06.492Z"
   },
   {
    "duration": 47,
    "start_time": "2025-08-20T08:26:25.961Z"
   },
   {
    "duration": 1327,
    "start_time": "2025-08-20T08:26:37.679Z"
   },
   {
    "duration": 2950,
    "start_time": "2025-08-20T08:26:39.008Z"
   },
   {
    "duration": 376,
    "start_time": "2025-08-20T08:26:41.959Z"
   },
   {
    "duration": 56,
    "start_time": "2025-08-20T08:26:42.337Z"
   },
   {
    "duration": 399,
    "start_time": "2025-08-20T08:26:42.395Z"
   },
   {
    "duration": 215,
    "start_time": "2025-08-20T08:26:42.795Z"
   },
   {
    "duration": 2,
    "start_time": "2025-08-20T08:26:43.012Z"
   },
   {
    "duration": 102,
    "start_time": "2025-08-20T08:26:43.015Z"
   },
   {
    "duration": 18,
    "start_time": "2025-08-20T08:26:43.119Z"
   },
   {
    "duration": 14,
    "start_time": "2025-08-20T08:26:43.138Z"
   },
   {
    "duration": 251,
    "start_time": "2025-08-20T08:26:43.153Z"
   },
   {
    "duration": 201,
    "start_time": "2025-08-20T08:26:43.406Z"
   },
   {
    "duration": 440,
    "start_time": "2025-08-20T08:26:43.609Z"
   },
   {
    "duration": 583,
    "start_time": "2025-08-20T08:26:44.052Z"
   },
   {
    "duration": 137,
    "start_time": "2025-08-20T08:26:44.636Z"
   },
   {
    "duration": 251,
    "start_time": "2025-08-20T08:26:44.775Z"
   },
   {
    "duration": 188,
    "start_time": "2025-08-20T08:26:45.027Z"
   },
   {
    "duration": 41,
    "start_time": "2025-08-20T08:26:45.217Z"
   },
   {
    "duration": 4688,
    "start_time": "2025-08-20T08:26:45.260Z"
   },
   {
    "duration": 4,
    "start_time": "2025-08-20T08:26:49.950Z"
   },
   {
    "duration": 31,
    "start_time": "2025-08-20T08:26:49.955Z"
   },
   {
    "duration": 9,
    "start_time": "2025-08-20T08:26:49.987Z"
   },
   {
    "duration": 140,
    "start_time": "2025-08-20T08:26:49.998Z"
   },
   {
    "duration": 136,
    "start_time": "2025-08-20T08:26:50.140Z"
   },
   {
    "duration": 332,
    "start_time": "2025-08-20T08:26:50.278Z"
   },
   {
    "duration": 203,
    "start_time": "2025-08-20T08:26:50.612Z"
   },
   {
    "duration": 220,
    "start_time": "2025-08-20T08:26:50.817Z"
   },
   {
    "duration": 281,
    "start_time": "2025-08-20T08:26:51.039Z"
   },
   {
    "duration": 126,
    "start_time": "2025-08-20T08:26:51.321Z"
   },
   {
    "duration": 59,
    "start_time": "2025-08-20T08:26:51.448Z"
   },
   {
    "duration": 1147,
    "start_time": "2025-08-20T08:26:51.509Z"
   },
   {
    "duration": 42,
    "start_time": "2025-08-20T08:26:52.658Z"
   },
   {
    "duration": 429,
    "start_time": "2025-08-20T08:26:52.701Z"
   },
   {
    "duration": 41,
    "start_time": "2025-08-20T08:26:53.132Z"
   },
   {
    "duration": 31,
    "start_time": "2025-08-20T08:26:53.174Z"
   },
   {
    "duration": 140,
    "start_time": "2025-08-20T08:26:53.207Z"
   },
   {
    "duration": 129,
    "start_time": "2025-08-20T08:26:53.349Z"
   },
   {
    "duration": 61,
    "start_time": "2025-08-20T08:32:23.113Z"
   },
   {
    "duration": 127,
    "start_time": "2025-08-20T08:35:31.005Z"
   },
   {
    "duration": 1646,
    "start_time": "2025-08-20T08:36:51.353Z"
   },
   {
    "duration": 3098,
    "start_time": "2025-08-20T08:37:18.394Z"
   },
   {
    "duration": 1547,
    "start_time": "2025-08-20T08:37:51.277Z"
   },
   {
    "duration": 1566,
    "start_time": "2025-08-20T08:37:56.404Z"
   },
   {
    "duration": 1445,
    "start_time": "2025-08-20T08:38:09.858Z"
   },
   {
    "duration": 1446,
    "start_time": "2025-08-20T08:38:44.989Z"
   },
   {
    "duration": 376,
    "start_time": "2025-08-20T08:39:59.851Z"
   },
   {
    "duration": 1432,
    "start_time": "2025-08-20T08:40:02.572Z"
   },
   {
    "duration": 1497,
    "start_time": "2025-08-20T08:40:22.891Z"
   },
   {
    "duration": 122,
    "start_time": "2025-08-20T08:40:36.497Z"
   },
   {
    "duration": 120,
    "start_time": "2025-08-20T08:44:17.012Z"
   },
   {
    "duration": 177,
    "start_time": "2025-08-20T08:48:08.419Z"
   },
   {
    "duration": 258,
    "start_time": "2025-08-20T08:48:17.517Z"
   },
   {
    "duration": 179,
    "start_time": "2025-08-20T08:48:20.116Z"
   },
   {
    "duration": 241,
    "start_time": "2025-08-20T08:48:37.397Z"
   },
   {
    "duration": 204,
    "start_time": "2025-08-20T08:51:00.669Z"
   },
   {
    "duration": 191,
    "start_time": "2025-08-20T08:51:23.829Z"
   },
   {
    "duration": 199,
    "start_time": "2025-08-20T08:54:21.048Z"
   },
   {
    "duration": 190,
    "start_time": "2025-08-20T08:54:56.173Z"
   },
   {
    "duration": 205,
    "start_time": "2025-08-20T09:03:30.075Z"
   },
   {
    "duration": 404,
    "start_time": "2025-08-20T09:03:53.497Z"
   },
   {
    "duration": 1489,
    "start_time": "2025-08-20T09:06:34.084Z"
   },
   {
    "duration": 348,
    "start_time": "2025-08-20T09:08:39.699Z"
   },
   {
    "duration": 382,
    "start_time": "2025-08-20T09:12:11.768Z"
   },
   {
    "duration": 313,
    "start_time": "2025-08-20T09:13:55.092Z"
   },
   {
    "duration": 276,
    "start_time": "2025-08-20T09:14:07.862Z"
   },
   {
    "duration": 299,
    "start_time": "2025-08-20T09:20:37.782Z"
   },
   {
    "duration": 296,
    "start_time": "2025-08-20T09:22:35.482Z"
   },
   {
    "duration": 333,
    "start_time": "2025-08-20T09:25:01.401Z"
   },
   {
    "duration": 189,
    "start_time": "2025-08-20T09:25:45.634Z"
   },
   {
    "duration": 186,
    "start_time": "2025-08-20T09:25:59.659Z"
   },
   {
    "duration": 112,
    "start_time": "2025-08-20T09:54:40.671Z"
   },
   {
    "duration": 54,
    "start_time": "2025-08-20T09:54:52.478Z"
   },
   {
    "duration": 4916,
    "start_time": "2025-08-20T09:59:52.539Z"
   },
   {
    "duration": 135,
    "start_time": "2025-08-20T10:02:02.002Z"
   },
   {
    "duration": 21,
    "start_time": "2025-08-20T10:02:07.674Z"
   },
   {
    "duration": 529,
    "start_time": "2025-08-20T10:03:50.396Z"
   },
   {
    "duration": 540,
    "start_time": "2025-08-20T10:08:09.996Z"
   },
   {
    "duration": 527,
    "start_time": "2025-08-20T10:08:22.348Z"
   },
   {
    "duration": 599,
    "start_time": "2025-08-20T10:09:06.852Z"
   },
   {
    "duration": 511,
    "start_time": "2025-08-20T10:09:41.869Z"
   },
   {
    "duration": 546,
    "start_time": "2025-08-20T10:09:58.773Z"
   },
   {
    "duration": 511,
    "start_time": "2025-08-20T10:10:13.884Z"
   },
   {
    "duration": 400,
    "start_time": "2025-08-20T10:16:19.463Z"
   },
   {
    "duration": 123,
    "start_time": "2025-08-20T10:23:02.562Z"
   },
   {
    "duration": 10,
    "start_time": "2025-08-20T10:24:03.674Z"
   },
   {
    "duration": 94,
    "start_time": "2025-08-20T10:24:26.018Z"
   },
   {
    "duration": 80,
    "start_time": "2025-08-20T10:27:21.228Z"
   },
   {
    "duration": 48,
    "start_time": "2025-08-20T10:30:22.492Z"
   },
   {
    "duration": 56,
    "start_time": "2025-08-20T10:31:01.304Z"
   },
   {
    "duration": 49,
    "start_time": "2025-08-20T10:32:24.926Z"
   },
   {
    "duration": 50,
    "start_time": "2025-08-20T10:33:34.247Z"
   },
   {
    "duration": 73,
    "start_time": "2025-08-20T10:36:16.505Z"
   },
   {
    "duration": 1229,
    "start_time": "2025-08-20T10:56:48.976Z"
   },
   {
    "duration": 1745,
    "start_time": "2025-08-20T10:56:50.207Z"
   },
   {
    "duration": 418,
    "start_time": "2025-08-20T10:56:51.954Z"
   },
   {
    "duration": 108,
    "start_time": "2025-08-20T10:56:52.374Z"
   },
   {
    "duration": 438,
    "start_time": "2025-08-20T10:56:52.485Z"
   },
   {
    "duration": 216,
    "start_time": "2025-08-20T10:56:52.925Z"
   },
   {
    "duration": 2,
    "start_time": "2025-08-20T10:56:53.142Z"
   },
   {
    "duration": 166,
    "start_time": "2025-08-20T10:56:53.146Z"
   },
   {
    "duration": 21,
    "start_time": "2025-08-20T10:56:53.313Z"
   },
   {
    "duration": 35,
    "start_time": "2025-08-20T10:56:53.337Z"
   },
   {
    "duration": 277,
    "start_time": "2025-08-20T10:56:53.374Z"
   },
   {
    "duration": 198,
    "start_time": "2025-08-20T10:56:53.653Z"
   },
   {
    "duration": 491,
    "start_time": "2025-08-20T10:56:53.853Z"
   },
   {
    "duration": 607,
    "start_time": "2025-08-20T10:56:54.348Z"
   },
   {
    "duration": 151,
    "start_time": "2025-08-20T10:56:54.957Z"
   },
   {
    "duration": 276,
    "start_time": "2025-08-20T10:56:55.110Z"
   },
   {
    "duration": 195,
    "start_time": "2025-08-20T10:56:55.388Z"
   },
   {
    "duration": 44,
    "start_time": "2025-08-20T10:56:55.585Z"
   },
   {
    "duration": 4800,
    "start_time": "2025-08-20T10:56:55.631Z"
   },
   {
    "duration": 4,
    "start_time": "2025-08-20T10:57:00.433Z"
   },
   {
    "duration": 103,
    "start_time": "2025-08-20T10:57:00.439Z"
   },
   {
    "duration": 25,
    "start_time": "2025-08-20T10:57:00.545Z"
   },
   {
    "duration": 205,
    "start_time": "2025-08-20T10:57:00.572Z"
   },
   {
    "duration": 156,
    "start_time": "2025-08-20T10:57:00.779Z"
   },
   {
    "duration": 336,
    "start_time": "2025-08-20T10:57:00.937Z"
   },
   {
    "duration": 205,
    "start_time": "2025-08-20T10:57:01.275Z"
   },
   {
    "duration": 210,
    "start_time": "2025-08-20T10:57:01.482Z"
   },
   {
    "duration": 294,
    "start_time": "2025-08-20T10:57:01.694Z"
   },
   {
    "duration": 198,
    "start_time": "2025-08-20T10:57:01.989Z"
   },
   {
    "duration": 124,
    "start_time": "2025-08-20T10:57:02.190Z"
   },
   {
    "duration": 60,
    "start_time": "2025-08-20T10:57:02.316Z"
   },
   {
    "duration": 1134,
    "start_time": "2025-08-20T10:57:02.378Z"
   },
   {
    "duration": 45,
    "start_time": "2025-08-20T10:57:03.514Z"
   },
   {
    "duration": 463,
    "start_time": "2025-08-20T10:57:03.561Z"
   },
   {
    "duration": 50,
    "start_time": "2025-08-20T10:57:04.026Z"
   },
   {
    "duration": 310,
    "start_time": "2025-08-20T10:57:04.078Z"
   },
   {
    "duration": 32,
    "start_time": "2025-08-20T10:57:04.389Z"
   },
   {
    "duration": 111,
    "start_time": "2025-08-20T10:57:04.423Z"
   },
   {
    "duration": 0,
    "start_time": "2025-08-20T10:57:04.536Z"
   },
   {
    "duration": 1247,
    "start_time": "2025-08-20T10:57:19.314Z"
   },
   {
    "duration": 1465,
    "start_time": "2025-08-20T10:57:20.563Z"
   },
   {
    "duration": 297,
    "start_time": "2025-08-20T10:57:22.029Z"
   },
   {
    "duration": 59,
    "start_time": "2025-08-20T10:57:22.327Z"
   },
   {
    "duration": 438,
    "start_time": "2025-08-20T10:57:22.388Z"
   },
   {
    "duration": 220,
    "start_time": "2025-08-20T10:57:22.828Z"
   },
   {
    "duration": 2,
    "start_time": "2025-08-20T10:57:23.050Z"
   },
   {
    "duration": 154,
    "start_time": "2025-08-20T10:57:23.054Z"
   },
   {
    "duration": 21,
    "start_time": "2025-08-20T10:57:23.210Z"
   },
   {
    "duration": 15,
    "start_time": "2025-08-20T10:57:23.233Z"
   },
   {
    "duration": 283,
    "start_time": "2025-08-20T10:57:23.249Z"
   },
   {
    "duration": 199,
    "start_time": "2025-08-20T10:57:23.534Z"
   },
   {
    "duration": 478,
    "start_time": "2025-08-20T10:57:23.735Z"
   },
   {
    "duration": 608,
    "start_time": "2025-08-20T10:57:24.216Z"
   },
   {
    "duration": 147,
    "start_time": "2025-08-20T10:57:24.825Z"
   },
   {
    "duration": 259,
    "start_time": "2025-08-20T10:57:24.974Z"
   },
   {
    "duration": 200,
    "start_time": "2025-08-20T10:57:25.235Z"
   },
   {
    "duration": 49,
    "start_time": "2025-08-20T10:57:25.437Z"
   },
   {
    "duration": 4808,
    "start_time": "2025-08-20T10:57:25.487Z"
   },
   {
    "duration": 4,
    "start_time": "2025-08-20T10:57:30.297Z"
   },
   {
    "duration": 40,
    "start_time": "2025-08-20T10:57:30.303Z"
   },
   {
    "duration": 17,
    "start_time": "2025-08-20T10:57:30.345Z"
   },
   {
    "duration": 125,
    "start_time": "2025-08-20T10:57:30.363Z"
   },
   {
    "duration": 141,
    "start_time": "2025-08-20T10:57:30.490Z"
   },
   {
    "duration": 357,
    "start_time": "2025-08-20T10:57:30.633Z"
   },
   {
    "duration": 216,
    "start_time": "2025-08-20T10:57:30.992Z"
   },
   {
    "duration": 192,
    "start_time": "2025-08-20T10:57:31.210Z"
   },
   {
    "duration": 286,
    "start_time": "2025-08-20T10:57:31.404Z"
   },
   {
    "duration": 196,
    "start_time": "2025-08-20T10:57:31.692Z"
   },
   {
    "duration": 116,
    "start_time": "2025-08-20T10:57:31.890Z"
   },
   {
    "duration": 64,
    "start_time": "2025-08-20T10:57:32.008Z"
   },
   {
    "duration": 1166,
    "start_time": "2025-08-20T10:57:32.074Z"
   },
   {
    "duration": 44,
    "start_time": "2025-08-20T10:57:33.242Z"
   },
   {
    "duration": 437,
    "start_time": "2025-08-20T10:57:33.287Z"
   },
   {
    "duration": 36,
    "start_time": "2025-08-20T10:57:33.726Z"
   },
   {
    "duration": 293,
    "start_time": "2025-08-20T10:57:33.772Z"
   },
   {
    "duration": 33,
    "start_time": "2025-08-20T10:57:34.066Z"
   },
   {
    "duration": 124,
    "start_time": "2025-08-20T10:57:34.101Z"
   },
   {
    "duration": 0,
    "start_time": "2025-08-20T10:57:34.226Z"
   },
   {
    "duration": 109,
    "start_time": "2025-08-20T10:58:30.943Z"
   },
   {
    "duration": 130,
    "start_time": "2025-08-20T10:58:37.733Z"
   },
   {
    "duration": 1158,
    "start_time": "2025-10-05T09:19:31.526Z"
   },
   {
    "duration": 1531,
    "start_time": "2025-10-05T09:19:32.686Z"
   },
   {
    "duration": 253,
    "start_time": "2025-10-05T09:19:34.219Z"
   },
   {
    "duration": 46,
    "start_time": "2025-10-05T09:19:34.474Z"
   },
   {
    "duration": 386,
    "start_time": "2025-10-05T09:19:34.521Z"
   },
   {
    "duration": 209,
    "start_time": "2025-10-05T09:19:34.908Z"
   },
   {
    "duration": 132,
    "start_time": "2025-10-05T09:19:35.119Z"
   },
   {
    "duration": 18,
    "start_time": "2025-10-05T09:19:35.252Z"
   },
   {
    "duration": 12,
    "start_time": "2025-10-05T09:19:35.272Z"
   },
   {
    "duration": 266,
    "start_time": "2025-10-05T09:19:35.286Z"
   },
   {
    "duration": 180,
    "start_time": "2025-10-05T09:19:35.553Z"
   },
   {
    "duration": 443,
    "start_time": "2025-10-05T09:19:35.734Z"
   },
   {
    "duration": 519,
    "start_time": "2025-10-05T09:19:36.178Z"
   },
   {
    "duration": 121,
    "start_time": "2025-10-05T09:19:36.698Z"
   },
   {
    "duration": 238,
    "start_time": "2025-10-05T09:19:36.820Z"
   },
   {
    "duration": 178,
    "start_time": "2025-10-05T09:19:37.059Z"
   },
   {
    "duration": 40,
    "start_time": "2025-10-05T09:19:37.238Z"
   },
   {
    "duration": 4407,
    "start_time": "2025-10-05T09:19:37.280Z"
   },
   {
    "duration": 5,
    "start_time": "2025-10-05T09:19:41.688Z"
   },
   {
    "duration": 152,
    "start_time": "2025-10-05T09:19:41.694Z"
   },
   {
    "duration": 9,
    "start_time": "2025-10-05T09:19:41.847Z"
   },
   {
    "duration": 118,
    "start_time": "2025-10-05T09:19:41.857Z"
   },
   {
    "duration": 124,
    "start_time": "2025-10-05T09:19:41.977Z"
   },
   {
    "duration": 294,
    "start_time": "2025-10-05T09:19:42.103Z"
   },
   {
    "duration": 181,
    "start_time": "2025-10-05T09:19:42.398Z"
   },
   {
    "duration": 178,
    "start_time": "2025-10-05T09:19:42.580Z"
   },
   {
    "duration": 266,
    "start_time": "2025-10-05T09:19:42.760Z"
   },
   {
    "duration": 168,
    "start_time": "2025-10-05T09:19:43.028Z"
   },
   {
    "duration": 98,
    "start_time": "2025-10-05T09:19:43.198Z"
   },
   {
    "duration": 57,
    "start_time": "2025-10-05T09:19:43.298Z"
   },
   {
    "duration": 999,
    "start_time": "2025-10-05T09:19:43.356Z"
   },
   {
    "duration": 42,
    "start_time": "2025-10-05T09:19:44.356Z"
   },
   {
    "duration": 397,
    "start_time": "2025-10-05T09:19:44.399Z"
   },
   {
    "duration": 32,
    "start_time": "2025-10-05T09:19:44.797Z"
   },
   {
    "duration": 306,
    "start_time": "2025-10-05T09:19:44.830Z"
   },
   {
    "duration": 36,
    "start_time": "2025-10-05T09:19:45.138Z"
   },
   {
    "duration": 107,
    "start_time": "2025-10-05T09:19:45.175Z"
   },
   {
    "duration": 127,
    "start_time": "2025-10-05T09:19:45.283Z"
   }
  ],
  "kernelspec": {
   "display_name": "Python 3 (ipykernel)",
   "language": "python",
   "name": "python3"
  },
  "language_info": {
   "codemirror_mode": {
    "name": "ipython",
    "version": 3
   },
   "file_extension": ".py",
   "mimetype": "text/x-python",
   "name": "python",
   "nbconvert_exporter": "python",
   "pygments_lexer": "ipython3",
   "version": "3.9.7"
  },
  "toc": {
   "base_numbering": 1,
   "nav_menu": {},
   "number_sections": true,
   "sideBar": true,
   "skip_h1_title": true,
   "title_cell": "Table of Contents",
   "title_sidebar": "Contents",
   "toc_cell": false,
   "toc_position": {},
   "toc_section_display": true,
   "toc_window_display": false
  }
 },
 "nbformat": 4,
 "nbformat_minor": 5
}
